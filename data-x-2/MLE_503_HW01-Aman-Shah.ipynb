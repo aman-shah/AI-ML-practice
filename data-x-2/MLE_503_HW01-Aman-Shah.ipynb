{
 "cells": [
  {
   "cell_type": "markdown",
   "metadata": {},
   "source": [
    "## TASK: What is the current AI strategy of India? \n",
    "\n",
    "[Pointers: Your understanding of the different aspects of AI, their progress in our country, relevance to global AI technology]"
   ]
  },
  {
   "cell_type": "raw",
   "metadata": {},
   "source": [
    "###\n",
    "\n",
    "India has taken a unique approach to its national AI strategy by focusing on how India can leverage AI not only for economic growth, but also for social inclusion. NITI Aayog, the government think tank that wrote the report ‘National Strategy for Artificial Intelligence' in June 2018, calls this approach #AIforAll. The strategy, as a result, aims to \n",
    "(1) enhance and empower Indians with the skills to find quality jobs; \n",
    "(2) invest in research and sectors that can maximize economic growth and social impact; and \n",
    "(3) scale Indian-made AI solutions to the rest of the developing world.\n",
    "\n",
    "In the report, NITI Aayong identifies healthcare, agriculture, education, smart cities, and smart mobility as the priority sectors that will benefit the most socially from applying AI. \n",
    "\n",
    "However, the current state of AI research is very dismal. Out of the 22,000 PhD educated researchers worldwide in Artificial Intelligence (AI), only 386 are in India. Moreover, serious research work in India in the field of AI is limited to less than 50 researchers with concentration mostly in institutes such as the IITs, IIITs and IISc. NITI Aayog provides over 30 policy recommendations to invest in scientific research, encourage reskilling and training, accelerate the adoption of AI across the value chain, and promote ethics, privacy, and security in AI. Its flagship initiative is a two-tiered integrated strategy to boost research in AI. \n",
    "- First, new Centres of Research Excellence in AI (COREs) will focus on fundamental research. \n",
    "- Second, the COREs will act as technology feeders for the International Centres for Transformational AI (ICTAIs), which will focus on creating AI-based applications in domains of societal importance. \n",
    "\n",
    "The report also recommends setting up a consortium of Ethics Councils at each CORE and ICTAI, developing sector specific guidelines on privacy, security, and ethics, creating a National AI Marketplace to increase market discovery and reduce time and cost of collecting data, and a number of initiatives to help the overall workforce acquire skills. Strategically, the government wants to establish India as an “AI Garage,” meaning that if a company can deploy an AI in India, it will then be applicable to the rest of the developing world.\n",
    "\n",
    "\n",
    "###\n",
    "\n",
    "References:\n",
    "- economictimes.indiatimes.com/articleshow/69836362.cms/"
   ]
  },
  {
   "cell_type": "markdown",
   "metadata": {},
   "source": [
    "## TASK: Hyper Plane\n",
    "\n",
    "What is a hyper plane? How can a vector of variables represent a hyper plane?"
   ]
  },
  {
   "cell_type": "raw",
   "metadata": {},
   "source": [
    "###\n",
    "\n",
    "Hyperplane is a decision boundary or surface that partitions the underlying vector space into two sets, one for each class. A general hypersurface in a small dimension space is turned into a hyperplane in a space with much larger dimensions.\n",
    "\n",
    "Hyperplane and decision boundary are equivalent at small dimension space, 'plane' has the meaning of straight and flat, so it is a line or a plane that separate the data sets. When you do a non-linear operation to map your data to a new feature space, the decision boundary is still a hyperplane in that space, but is not a plane any more at the original space.\n",
    "\n",
    "                             ###"
   ]
  },
  {
   "cell_type": "markdown",
   "metadata": {},
   "source": [
    "Generate a set of random points in a given range (user-defined)."
   ]
  },
  {
   "cell_type": "code",
   "execution_count": 5,
   "metadata": {},
   "outputs": [],
   "source": [
    "import numpy as np\n",
    "import pandas as pd"
   ]
  },
  {
   "cell_type": "markdown",
   "metadata": {},
   "source": [
    "Find out the separating hyper plane for the set of points(use Numpy) and plot it using matplotlib."
   ]
  },
  {
   "cell_type": "code",
   "execution_count": 39,
   "metadata": {},
   "outputs": [
    {
     "name": "stdout",
     "output_type": "stream",
     "text": [
      "How many datapoints you want?10\n",
      "Define the start point:1\n",
      "Define the end point:20\n",
      "[17.0, 15.4, 9.0, 5.9, 10.7, 8.7, 15.9, 6.8, 10.1, 12.1]\n"
     ]
    }
   ],
   "source": [
    "#-----------------------#\n",
    "import random\n",
    "n = int(input(\"How many datapoints you want?\"))\n",
    "start_point = int(input(\"Define the start point:\"))\n",
    "end_point = int(input(\"Define the end point:\"))\n",
    "list_ = []\n",
    "random.seed(0)\n",
    "for i in range(n):\n",
    "    list_.append(round(random.uniform(start_point, end_point),1))\n",
    "print(list_)\n",
    "#-----------------------#"
   ]
  },
  {
   "cell_type": "code",
   "execution_count": 40,
   "metadata": {},
   "outputs": [
    {
     "name": "stdout",
     "output_type": "stream",
     "text": [
      "How many datapoints you want?10\n",
      "Define the start point:20\n",
      "Define the end point:40\n",
      "[22.7, 36.9, 35.3, 25.1, 29.9, 29.0, 33.0, 35.8, 21.9, 20.6]\n"
     ]
    }
   ],
   "source": [
    "n1 = int(input(\"How many datapoints you want?\"))\n",
    "start_point1 = int(input(\"Define the start point:\"))\n",
    "end_point1 = int(input(\"Define the end point:\"))\n",
    "list_1 = []\n",
    "random.seed(1)\n",
    "for i in range(n1):\n",
    "    list_1.append(round(random.uniform(start_point1, end_point1),1))\n",
    "print(list_1)"
   ]
  },
  {
   "cell_type": "code",
   "execution_count": 41,
   "metadata": {},
   "outputs": [],
   "source": [
    "from sklearn.svm import LinearSVC\n",
    "from sklearn import datasets\n",
    "from sklearn.preprocessing import StandardScaler\n",
    "import numpy as np\n",
    "from matplotlib import pyplot as plt"
   ]
  },
  {
   "cell_type": "code",
   "execution_count": 42,
   "metadata": {},
   "outputs": [
    {
     "name": "stdout",
     "output_type": "stream",
     "text": [
      "[[17.  22.7  1. ]\n",
      " [15.4 36.9 -1. ]\n",
      " [ 9.  35.3 -1. ]\n",
      " [ 5.9 25.1  1. ]\n",
      " [10.7 29.9 -1. ]\n",
      " [ 8.7 29.   1. ]\n",
      " [15.9 33.  -1. ]\n",
      " [ 6.8 35.8 -1. ]\n",
      " [10.1 21.9  1. ]\n",
      " [12.1 20.6  1. ]]\n"
     ]
    }
   ],
   "source": [
    "%matplotlib inline\n",
    "X = np.c_[np.array(list_), np.array(list_1)]\n",
    "y = np.array([1,-1,-1,1,-1,1,-1,-1,1,1])\n",
    "X = np.c_[X,y]\n",
    "print(X)"
   ]
  },
  {
   "cell_type": "code",
   "execution_count": 43,
   "metadata": {},
   "outputs": [
    {
     "data": {
      "text/plain": [
       "[<matplotlib.lines.Line2D at 0x1dc347fccc0>]"
      ]
     },
     "execution_count": 43,
     "metadata": {},
     "output_type": "execute_result"
    },
    {
     "data": {
      "image/png": "[encoded data removed]",
      "text/plain": [
       "<Figure size 432x288 with 1 Axes>"
      ]
     },
     "metadata": {
      "needs_background": "light"
     },
     "output_type": "display_data"
    }
   ],
   "source": [
    "for d, sample in enumerate(X):\n",
    "    # Plot the negative samples\n",
    "    if y[d] < 0:\n",
    "        plt.scatter(sample[0], sample[1], s=120, marker='_', linewidths=2)\n",
    "    # Plot the positive samples\n",
    "    else:\n",
    "        plt.scatter(sample[0], sample[1], s=120, marker='+', linewidths=2)\n",
    "plt.plot([1,20],[37.5,17.5])"
   ]
  },
  {
   "cell_type": "code",
   "execution_count": 44,
   "metadata": {},
   "outputs": [],
   "source": [
    "scaler = StandardScaler()\n",
    "X_std = scaler.fit_transform(X)"
   ]
  },
  {
   "cell_type": "code",
   "execution_count": 45,
   "metadata": {},
   "outputs": [],
   "source": [
    "# Create support vector classifier\n",
    "svc = LinearSVC(C=1.0)\n",
    "\n",
    "# Train model\n",
    "model = svc.fit(X_std, y)"
   ]
  },
  {
   "cell_type": "code",
   "execution_count": 46,
   "metadata": {},
   "outputs": [
    {
     "data": {
      "image/png": "[encoded data removed]",
      "text/plain": [
       "<Figure size 432x288 with 1 Axes>"
      ]
     },
     "metadata": {
      "needs_background": "light"
     },
     "output_type": "display_data"
    }
   ],
   "source": [
    "# Plot data points and color using their class\n",
    "color = ['black' if c == -1 else 'red' for c in y]\n",
    "# plt.scatter(X_std[:,0], X_std[:,1], c=color)\n",
    "for d, sample in enumerate(X_std):\n",
    "    # Plot the negative samples\n",
    "    if y[d] < 0:\n",
    "        plt.scatter(sample[0], sample[1], s=120, marker='_', linewidths=2)\n",
    "    # Plot the positive samples\n",
    "    else:\n",
    "        plt.scatter(sample[0], sample[1], s=120, marker='+', linewidths=2)\n",
    "\n",
    "\n",
    "# Create the hyperplane\n",
    "w = svc.coef_[0]\n",
    "a = -w[0] / w[1]\n",
    "xx = np.linspace(-2.5, 2.5)\n",
    "yy = a * xx - (svc.intercept_[0]) / w[1]\n",
    "\n",
    "# Plot the hyperplane\n",
    "plt.plot(xx, yy)\n",
    "# plt.axis(\"off\"), \n",
    "plt.show();"
   ]
  },
  {
   "cell_type": "markdown",
   "metadata": {},
   "source": [
    "<h1> MSE Linear Regression 3 ways </h1>"
   ]
  },
  {
   "cell_type": "markdown",
   "metadata": {},
   "source": [
    "# 1. Closed form  Linear Regression (MSE)  in Numpy"
   ]
  },
  {
   "cell_type": "markdown",
   "metadata": {},
   "source": [
    "## MSE LR: Random search for linear regression model"
   ]
  },
  {
   "cell_type": "markdown",
   "metadata": {},
   "source": [
    "### Generate data artificially"
   ]
  },
  {
   "cell_type": "code",
   "execution_count": 6,
   "metadata": {},
   "outputs": [],
   "source": [
    "import numpy as np\n",
    "import copy\n",
    "\n",
    "import matplotlib.pyplot as plt\n",
    "%matplotlib inline"
   ]
  },
  {
   "cell_type": "code",
   "execution_count": 7,
   "metadata": {},
   "outputs": [
    {
     "name": "stdout",
     "output_type": "stream",
     "text": [
      "[ 1  2  3  4  5  6  7  8  9 10 11 12 13 14 15 16 17 18 19]\n"
     ]
    }
   ],
   "source": [
    "X = np.arange(1, 20)\n",
    "print(X)"
   ]
  },
  {
   "cell_type": "markdown",
   "metadata": {},
   "source": [
    "The following are the **TRUE** (\"Ideal\") parameters of regression that will be used to generate a dataset."
   ]
  },
  {
   "cell_type": "code",
   "execution_count": 8,
   "metadata": {},
   "outputs": [],
   "source": [
    "b, m = 3, 1.5"
   ]
  },
  {
   "cell_type": "code",
   "execution_count": 9,
   "metadata": {},
   "outputs": [
    {
     "name": "stdout",
     "output_type": "stream",
     "text": [
      "[ 4.5  6.   7.5  9.  10.5 12.  13.5 15.  16.5 18.  19.5 21.  22.5 24.\n",
      " 25.5 27.  28.5 30.  31.5]\n"
     ]
    }
   ],
   "source": [
    "y = m * X + b\n",
    "print(y)"
   ]
  },
  {
   "cell_type": "markdown",
   "metadata": {},
   "source": [
    "Add some random gaussian noise to the target variable $y$."
   ]
  },
  {
   "cell_type": "code",
   "execution_count": 10,
   "metadata": {},
   "outputs": [
    {
     "name": "stdout",
     "output_type": "stream",
     "text": [
      "[ 4.34410725  5.66641185 10.6253904   5.22978212 12.73616304  6.86683872\n",
      " 12.88240685 14.29628613 19.88443213 17.96212215 17.66039914 25.1210655\n",
      " 27.33297593 21.93231519 27.57577113 25.65565319 28.9870274  30.7716874\n",
      " 27.67363242]\n"
     ]
    }
   ],
   "source": [
    "np.random.seed(21)\n",
    "y += np.random.normal(loc=0.0, scale=3.0, size=len(X))\n",
    "print(y)"
   ]
  },
  {
   "cell_type": "code",
   "execution_count": 11,
   "metadata": {},
   "outputs": [
    {
     "name": "stderr",
     "output_type": "stream",
     "text": [
      "/Users/shah.peace/anaconda3/lib/python3.7/site-packages/matplotlib/cbook/__init__.py:424: MatplotlibDeprecationWarning: \n",
      "Passing one of 'on', 'true', 'off', 'false' as a boolean is deprecated; use an actual boolean (True/False) instead.\n",
      "  warn_deprecated(\"2.2\", \"Passing one of 'on', 'true', 'off', 'false' as a \"\n"
     ]
    },
    {
     "data": {
      "image/png": "[encoded data removed]",
      "text/plain": [
       "<Figure size 720x576 with 1 Axes>"
      ]
     },
     "metadata": {
      "needs_background": "light"
     },
     "output_type": "display_data"
    }
   ],
   "source": [
    "plt.figure(figsize=(10, 8))\n",
    "plt.scatter(X, y, s=60, label=\"Available data\")\n",
    "#use two point to plot the TRUE line\n",
    "plt.plot([0, 20], [b, m * 20 + b], \"r\", linewidth=2, label=\"Real dependency\") \n",
    "plt.xlim([0, 20])\n",
    "plt.ylim([0, 35])\n",
    "plt.legend(loc=\"lower right\", fontsize=14)\n",
    "plt.grid(\"on\")\n",
    "plt.show()"
   ]
  },
  {
   "cell_type": "markdown",
   "metadata": {},
   "source": [
    "Reshape data such that each row contains a training example as a vector."
   ]
  },
  {
   "cell_type": "code",
   "execution_count": 12,
   "metadata": {},
   "outputs": [
    {
     "name": "stdout",
     "output_type": "stream",
     "text": [
      "[[ 1]\n",
      " [ 2]\n",
      " [ 3]\n",
      " [ 4]\n",
      " [ 5]\n",
      " [ 6]\n",
      " [ 7]\n",
      " [ 8]\n",
      " [ 9]\n",
      " [10]\n",
      " [11]\n",
      " [12]\n",
      " [13]\n",
      " [14]\n",
      " [15]\n",
      " [16]\n",
      " [17]\n",
      " [18]\n",
      " [19]]\n"
     ]
    }
   ],
   "source": [
    "X = X.reshape(-1, 1)\n",
    "print(X)"
   ]
  },
  {
   "cell_type": "markdown",
   "metadata": {},
   "source": [
    "Add a dummy  bias feature so we can learn the bias (aka intercept) term and slope via the normal equation."
   ]
  },
  {
   "cell_type": "code",
   "execution_count": 13,
   "metadata": {},
   "outputs": [
    {
     "name": "stdout",
     "output_type": "stream",
     "text": [
      "[[ 1.  1.]\n",
      " [ 1.  2.]\n",
      " [ 1.  3.]\n",
      " [ 1.  4.]\n",
      " [ 1.  5.]\n",
      " [ 1.  6.]\n",
      " [ 1.  7.]\n",
      " [ 1.  8.]\n",
      " [ 1.  9.]\n",
      " [ 1. 10.]\n",
      " [ 1. 11.]\n",
      " [ 1. 12.]\n",
      " [ 1. 13.]\n",
      " [ 1. 14.]\n",
      " [ 1. 15.]\n",
      " [ 1. 16.]\n",
      " [ 1. 17.]\n",
      " [ 1. 18.]\n",
      " [ 1. 19.]]\n"
     ]
    }
   ],
   "source": [
    "# Concatenate a vector of 1s to X \n",
    "# Notice the square brackets [ ]  and NOT () when we use np.c_[]\n",
    "X = np.c_[np.ones(X.shape[0]), X]\n",
    "print(X)"
   ]
  },
  {
   "cell_type": "markdown",
   "metadata": {},
   "source": [
    "Generate random set of weights"
   ]
  },
  {
   "cell_type": "code",
   "execution_count": 14,
   "metadata": {},
   "outputs": [],
   "source": [
    "np.random.seed(21)\n",
    "sampled_weights = np.random.random(size=(100, 2)) * 20 - 10"
   ]
  },
  {
   "cell_type": "code",
   "execution_count": 15,
   "metadata": {},
   "outputs": [
    {
     "name": "stdout",
     "output_type": "stream",
     "text": [
      "[[-9.02550238 -4.2178068 ]\n",
      " [ 4.41932694 -9.567675  ]\n",
      " [-5.88154469 -8.98453487]\n",
      " [-3.95456212  3.27820589]\n",
      " [-3.83771214  1.67182552]]\n"
     ]
    }
   ],
   "source": [
    "print(sampled_weights[:5])"
   ]
  },
  {
   "cell_type": "code",
   "execution_count": 16,
   "metadata": {},
   "outputs": [
    {
     "data": {
      "text/plain": [
       "(19, 2)"
      ]
     },
     "execution_count": 16,
     "metadata": {},
     "output_type": "execute_result"
    }
   ],
   "source": [
    "X.shape"
   ]
  },
  {
   "cell_type": "code",
   "execution_count": 17,
   "metadata": {},
   "outputs": [
    {
     "data": {
      "text/plain": [
       "(100, 2)"
      ]
     },
     "execution_count": 17,
     "metadata": {},
     "output_type": "execute_result"
    }
   ],
   "source": [
    "sampled_weights.shape"
   ]
  },
  {
   "cell_type": "markdown",
   "metadata": {},
   "source": [
    "Generate predictions for each weight vector"
   ]
  },
  {
   "cell_type": "code",
   "execution_count": 18,
   "metadata": {},
   "outputs": [],
   "source": [
    "preds = np.dot(sampled_weights, X.T)"
   ]
  },
  {
   "cell_type": "code",
   "execution_count": 19,
   "metadata": {},
   "outputs": [
    {
     "name": "stdout",
     "output_type": "stream",
     "text": [
      "Predictions shape:\n",
      " (100, 19)\n",
      "\n",
      "Predictions:\n",
      " [[ -13.24330919  -17.46111599  -21.6789228  ...  -80.72821806\n",
      "   -84.94602486  -89.16383166]\n",
      " [  -5.14834807  -14.71602307  -24.28369807 ... -158.23114809\n",
      "  -167.79882309 -177.3664981 ]\n",
      " [ -14.86607956  -23.85061443  -32.83514929 ... -158.61863742\n",
      "  -167.60317228 -176.58770715]\n",
      " ...\n",
      " [  -1.54789294    4.75337556   11.05464406 ...   99.27240311\n",
      "   105.57367162  111.87494012]\n",
      " [  11.0267082    12.80435606   14.58200392 ...   39.46907396\n",
      "    41.24672182   43.02436968]\n",
      " [   1.20258086    4.32012071    7.43766056 ...   51.08321842\n",
      "    54.20075827   57.31829812]]\n"
     ]
    }
   ],
   "source": [
    "print(\"Predictions shape:\\n\", preds.shape)\n",
    "print(\"\\nPredictions:\\n\", preds)"
   ]
  },
  {
   "cell_type": "markdown",
   "metadata": {},
   "source": [
    "Calculate errors"
   ]
  },
  {
   "cell_type": "code",
   "execution_count": 20,
   "metadata": {},
   "outputs": [],
   "source": [
    "errors = np.dot(sampled_weights, X.T) - y"
   ]
  },
  {
   "cell_type": "markdown",
   "metadata": {},
   "source": [
    "MSE"
   ]
  },
  {
   "cell_type": "code",
   "execution_count": 21,
   "metadata": {},
   "outputs": [
    {
     "name": "stdout",
     "output_type": "stream",
     "text": [
      "(100,)\n",
      "[ 5788.42555518 15637.88442017 16257.78048079   217.18009231\n",
      "    34.89998699]\n"
     ]
    }
   ],
   "source": [
    "mses = np.mean((errors)** 2, axis = 1)\n",
    "print(mses.shape)\n",
    "print(mses[:5])"
   ]
  },
  {
   "cell_type": "markdown",
   "metadata": {},
   "source": [
    "Find best weight"
   ]
  },
  {
   "cell_type": "code",
   "execution_count": 22,
   "metadata": {},
   "outputs": [
    {
     "name": "stdout",
     "output_type": "stream",
     "text": [
      "53\n"
     ]
    }
   ],
   "source": [
    "best_idx = np.argmin(mses)\n",
    "print(best_idx)"
   ]
  },
  {
   "cell_type": "code",
   "execution_count": 23,
   "metadata": {},
   "outputs": [
    {
     "data": {
      "text/plain": [
       "array([-6.98450904,  2.29527149])"
      ]
     },
     "execution_count": 23,
     "metadata": {},
     "output_type": "execute_result"
    }
   ],
   "source": [
    "sampled_weights[best_idx]"
   ]
  },
  {
   "cell_type": "code",
   "execution_count": 24,
   "metadata": {},
   "outputs": [
    {
     "name": "stdout",
     "output_type": "stream",
     "text": [
      "b_rs = -6.984509036567457\n",
      "w_rs = 2.295271490015722\n"
     ]
    }
   ],
   "source": [
    "b_rs, w_rs = sampled_weights[best_idx]\n",
    "print(\"b_rs =\", b_rs)\n",
    "print(\"w_rs =\", w_rs)"
   ]
  },
  {
   "cell_type": "code",
   "execution_count": 25,
   "metadata": {},
   "outputs": [
    {
     "data": {
      "image/png": "[encoded data removed]",
      "text/plain": [
       "<Figure size 720x576 with 1 Axes>"
      ]
     },
     "metadata": {
      "needs_background": "light"
     },
     "output_type": "display_data"
    }
   ],
   "source": [
    "plt.figure(figsize=(10, 8))\n",
    "plt.scatter(X[:, 1], y, s=60, label=\"Available data\")\n",
    "plt.xlabel(\"Input x\")\n",
    "plt.ylabel(\"Target y\")\n",
    "plt.plot([0, 20], [b, m * 20 + b], \"r\", linewidth=2, label=\"Real dependency\")\n",
    "plt.plot([0, 20], [b_rs, w_rs * 20 + b_rs], \"g\", linewidth=2, label=\"Random Search\")\n",
    "plt.xlim([0, 20])\n",
    "plt.ylim([0, 35])\n",
    "plt.legend(loc=\"lower right\", fontsize=14)\n",
    "plt.grid(\"on\")\n",
    "plt.show()"
   ]
  },
  {
   "cell_type": "code",
   "execution_count": 26,
   "metadata": {},
   "outputs": [
    {
     "name": "stdout",
     "output_type": "stream",
     "text": [
      "Best fit RMSE: 30.244692005182312\n",
      "Real RMSE: 7.231083196243735\n"
     ]
    }
   ],
   "source": [
    "print(\"Best fit RMSE:\", mses[best_idx])\n",
    "print(\"Real RMSE:\", np.mean((m * X[:, 1] + b - y)**2))"
   ]
  },
  {
   "cell_type": "markdown",
   "metadata": {},
   "source": [
    "## Closed form MSE LR:  Implement closed-form linear regression by hand\n",
    "\n",
    "The objective function for linear regression, known as mean squared error (MSE),  is defined as the following:\n",
    "$$\n",
    "f(\\mathbf{w}, b) = \\frac{1}{m}\\sum_{i=1}^{m}\\left( (\\mathbf{x_i^T}\\cdot\\mathbf{w} + b) - y_i\\right)^2,\\\\\n",
    "\\text{where}  \\space   \\space m = \\left|X_{\\text{train}}\\right|\n",
    "$$\n",
    "\n",
    "Note Google Colab has a nice equation editor. See [here](https://colab.research.google.com/drive/1xDyzAGUFy5OxvMpHaYxVYV9hnf0nAvln) for an example of how to edit Latex-based  equations.\n",
    "To be able to treat weigths $\\mathbf{w}$ and bias $b$ homogeneously we're going to augment the data with the \"shell\" feature (all $1$'s). Then we can add one more parameter to the weight vector and treat it as a *bias*.\n",
    "$$\n",
    "\\mathbf{x}' :=\n",
    "\\begin{bmatrix}\n",
    "\\mathbf{1}\\\\\n",
    "\\mathbf{X}\n",
    "\\end{bmatrix},\\quad\n",
    "\\boldsymbol{\\theta} :=\n",
    "\\begin{bmatrix}\n",
    "\\mathbf{b}\\\\\n",
    "\\mathbf{W}\n",
    "\\end{bmatrix}\n",
    "\\\\\n",
    "f(\\boldsymbol{\\theta}) = \\frac{1}{m}\\sum_{i=1}^{m}\\left(  \\mathbf{x'}_i^{\\text{T}} \\cdot \\boldsymbol{\\theta}- y_i\\right)^2\n",
    "$$\n",
    "\n",
    "Vector $\\text{x}'$ is referred to as the augmented input data vector. \n",
    "To simplify it further and do it in \"*tensor*\" (vectorized) way let's rewrite it in matrix form. Let's introduce the data matrix (the same as dataframe we used everywhere above)\n",
    "\n",
    "$$\n",
    "\\text{X} =\n",
    "\\begin{bmatrix}\n",
    "\\mathbf{x'}_1^{\\text{T}}\\\\\n",
    "\\vdots\\\\\n",
    "\\mathbf{x'}_n^{\\text{T}}\n",
    "\\end{bmatrix},\\quad\n",
    "\\mathbf{y} = \n",
    "\\begin{bmatrix}\n",
    "y_1\\\\\n",
    "\\vdots\\\\\n",
    "y_n\n",
    "\\end{bmatrix}\n",
    "$$\n",
    "\n",
    "Matrix $\\text{X}$, the augmented input data matrix, contains objects in its rows and features in its columns. Vector $\\mathbf{y}$ is a vector of answers. Then the objective function, MSE, can be rewritten as in matrix form as  follows:\n",
    "\n",
    "$$\n",
    "f(\\boldsymbol{\\theta}) = \\frac{1}{m}\\|\\text{X}\\cdot \\boldsymbol{\\theta} - \\mathbf{y}\\|^2\n",
    "$$\n",
    "\n",
    "This is often referred to as the **vectorized form** and helps simplify equations by dropping $\\sum$  and code by drop the use of `for` loops.\n",
    "Consequently, the gradient can be easily calculated in vectorized form as:\n",
    "\n",
    "$$\n",
    "\\nabla_{\\boldsymbol{\\theta}} f(\\boldsymbol{\\theta}) = \\frac{2}{m}\\left(\\text{X}\\cdot \\boldsymbol{\\theta} - \\mathbf{y}\\right)^{\\text{T}}\\cdot \\text{X}\n",
    "$$\n",
    "\n",
    "The first-order conditions (FOC) for optimality are as follows:\n",
    "\n",
    "$$\n",
    "\\nabla_{\\boldsymbol{\\theta}} f(\\boldsymbol{\\theta}) = 0\n",
    "$$\n",
    "\n",
    "Then we can solve for $\\theta$ as follows:\n",
    "\n",
    "$$\n",
    "\\frac{2}{m}\\left(\\text{X}\\cdot \\boldsymbol{\\theta} - \\mathbf{y}\\right)^{\\text{T}}\\cdot \\text{X}' = 0\\\\\n",
    "\\boldsymbol{\\theta}^{\\text{T}}\\text{X}^{\\text{T}}\\text{X} = \\mathbf{y}^{\\text{T}}\\text{X}^{\\text{T}}\\\\\n",
    "(\\text{X}^{\\text{T}}\\text{X})\\boldsymbol{\\theta}=\\text{X}^{\\text{T}}\\mathbf{y}\\\\\n",
    "\\boldsymbol{\\theta} = (\\text{X}^{\\text{T}}\\text{X})^{-1}\\text{X}^{\\text{T}}\\mathbf{y}\n",
    "$$\n",
    "\n",
    "This leads to the following  closed-form solution for a MSE-based linear regression model:\n",
    "$$\n",
    "\\boldsymbol{\\theta} = (\\text{X}^{\\text{T}}\\text{X})^{-1}\\text{X}^{\\text{T}}\\mathbf{y}\n",
    "$$\n",
    "\n",
    "This equation is commonly known as the **normal equation\".\n",
    "\n",
    "### TASK: Analytical solution to MSE Linear Regression\n",
    "Given this background implement, implement the normal equation. Hint `np.linalg.inv(a square matrix)` inverts a square matrix.  "
   ]
  },
  {
   "cell_type": "code",
   "execution_count": 27,
   "metadata": {},
   "outputs": [
    {
     "name": "stdout",
     "output_type": "stream",
     "text": [
      "Closed Form solution for theta(bias, slope): [2.991 1.507]\n",
      "y = 1.507x + 2.991 Learnt Model via linear regression\n",
      "y = 1.5  x + 3     TRUE   Model  \n"
     ]
    }
   ],
   "source": [
    "# Normal Equation:\n",
    "A = np.dot(X.T,X)\n",
    "theta = np.dot(y,np.dot(np.linalg.inv(A),X.T).T)\n",
    "intercept, slope = theta[0], theta[1]\n",
    "b_cf, m_cf = intercept, slope\n",
    "\n",
    "print(f\"Closed Form solution for theta(bias, slope): {np.round((b_cf, m_cf),3)}\")\n",
    "print(f\"y = {np.round(m_cf,3)}x + {np.round(b_cf,3)} Learnt Model via linear regression\")\n",
    "print(f\"y = {np.round(m,3)}  x + {np.round(b,3)}     TRUE   Model  \")"
   ]
  },
  {
   "cell_type": "markdown",
   "metadata": {},
   "source": [
    "Plot training data, true model equation, and Regression function obtained"
   ]
  },
  {
   "cell_type": "code",
   "execution_count": 28,
   "metadata": {},
   "outputs": [
    {
     "data": {
      "text/plain": [
       "array([[ 1.],\n",
       "       [ 2.],\n",
       "       [ 3.],\n",
       "       [ 4.],\n",
       "       [ 5.],\n",
       "       [ 6.],\n",
       "       [ 7.],\n",
       "       [ 8.],\n",
       "       [ 9.],\n",
       "       [10.],\n",
       "       [11.],\n",
       "       [12.],\n",
       "       [13.],\n",
       "       [14.],\n",
       "       [15.],\n",
       "       [16.],\n",
       "       [17.],\n",
       "       [18.],\n",
       "       [19.]])"
      ]
     },
     "execution_count": 28,
     "metadata": {},
     "output_type": "execute_result"
    }
   ],
   "source": [
    "X[:,1].reshape(-1,1)"
   ]
  },
  {
   "cell_type": "code",
   "execution_count": 29,
   "metadata": {},
   "outputs": [
    {
     "data": {
      "image/png": "[encoded data removed]",
      "text/plain": [
       "<Figure size 720x576 with 1 Axes>"
      ]
     },
     "metadata": {
      "needs_background": "light"
     },
     "output_type": "display_data"
    }
   ],
   "source": [
    "plt.figure(figsize=(10, 8))\n",
    "plt.scatter(X[:, 1], y, s=60, label=\"training data\")\n",
    "plt.xlabel(\"Input x\")\n",
    "plt.ylabel(\"Target y\")\n",
    "\n",
    "# plt.plot(X,theta*X,label = 'Learnt Model' )\n",
    "plt.plot(X[:,1], m_cf * X[:,1] + b_cf, \"r\", linewidth=2, label='Learnt Model')\n",
    "plt.legend()\n",
    "\n",
    "plt.show()"
   ]
  },
  {
   "cell_type": "markdown",
   "metadata": {},
   "source": [
    "# Boston Dataset via normal equation"
   ]
  },
  {
   "cell_type": "markdown",
   "metadata": {},
   "source": [
    "## Boston House Prices"
   ]
  },
  {
   "cell_type": "markdown",
   "metadata": {},
   "source": [
    "In this notebook, we're going to build a different regression model for predicting house prices in thousands of dollars given factors such as crime rate in neighborhood, number of schools, % lower status of the population, etc."
   ]
  },
  {
   "cell_type": "markdown",
   "metadata": {},
   "source": [
    "## Reading data"
   ]
  },
  {
   "cell_type": "markdown",
   "metadata": {},
   "source": [
    "Boston dataset is extremely common in machine learning experiments thus it is embedded in sklearn."
   ]
  },
  {
   "cell_type": "code",
   "execution_count": 30,
   "metadata": {
    "ExecuteTime": {
     "end_time": "2018-06-11T21:26:53.214582Z",
     "start_time": "2018-06-11T21:26:53.202972Z"
    }
   },
   "outputs": [],
   "source": [
    "from sklearn.datasets import load_boston\n",
    "boston = load_boston()"
   ]
  },
  {
   "cell_type": "markdown",
   "metadata": {},
   "source": [
    "Detailed description of dataset and features"
   ]
  },
  {
   "cell_type": "code",
   "execution_count": 31,
   "metadata": {
    "ExecuteTime": {
     "end_time": "2018-06-11T21:26:54.852759Z",
     "start_time": "2018-06-11T21:26:54.847777Z"
    }
   },
   "outputs": [
    {
     "name": "stdout",
     "output_type": "stream",
     "text": [
      ".. _boston_dataset:\n",
      "\n",
      "Boston house prices dataset\n",
      "---------------------------\n",
      "\n",
      "**Data Set Characteristics:**  \n",
      "\n",
      "    :Number of Instances: 506 \n",
      "\n",
      "    :Number of Attributes: 13 numeric/categorical predictive. Median Value (attribute 14) is usually the target.\n",
      "\n",
      "    :Attribute Information (in order):\n",
      "        - CRIM     per capita crime rate by town\n",
      "        - ZN       proportion of residential land zoned for lots over 25,000 sq.ft.\n",
      "        - INDUS    proportion of non-retail business acres per town\n",
      "        - CHAS     Charles River dummy variable (= 1 if tract bounds river; 0 otherwise)\n",
      "        - NOX      nitric oxides concentration (parts per 10 million)\n",
      "        - RM       average number of rooms per dwelling\n",
      "        - AGE      proportion of owner-occupied units built prior to 1940\n",
      "        - DIS      weighted distances to five Boston employment centres\n",
      "        - RAD      index of accessibility to radial highways\n",
      "        - TAX      full-value property-tax rate per $10,000\n",
      "        - PTRATIO  pupil-teacher ratio by town\n",
      "        - B        1000(Bk - 0.63)^2 where Bk is the proportion of blacks by town\n",
      "        - LSTAT    % lower status of the population\n",
      "        - MEDV     Median value of owner-occupied homes in $1000's\n",
      "\n",
      "    :Missing Attribute Values: None\n",
      "\n",
      "    :Creator: Harrison, D. and Rubinfeld, D.L.\n",
      "\n",
      "This is a copy of UCI ML housing dataset.\n",
      "https://archive.ics.uci.edu/ml/machine-learning-databases/housing/\n",
      "\n",
      "\n",
      "This dataset was taken from the StatLib library which is maintained at Carnegie Mellon University.\n",
      "\n",
      "The Boston house-price data of Harrison, D. and Rubinfeld, D.L. 'Hedonic\n",
      "prices and the demand for clean air', J. Environ. Economics & Management,\n",
      "vol.5, 81-102, 1978.   Used in Belsley, Kuh & Welsch, 'Regression diagnostics\n",
      "...', Wiley, 1980.   N.B. Various transformations are used in the table on\n",
      "pages 244-261 of the latter.\n",
      "\n",
      "The Boston house-price data has been used in many machine learning papers that address regression\n",
      "problems.   \n",
      "     \n",
      ".. topic:: References\n",
      "\n",
      "   - Belsley, Kuh & Welsch, 'Regression diagnostics: Identifying Influential Data and Sources of Collinearity', Wiley, 1980. 244-261.\n",
      "   - Quinlan,R. (1993). Combining Instance-Based and Model-Based Learning. In Proceedings on the Tenth International Conference of Machine Learning, 236-243, University of Massachusetts, Amherst. Morgan Kaufmann.\n",
      "\n"
     ]
    }
   ],
   "source": [
    "print(boston.DESCR)"
   ]
  },
  {
   "cell_type": "markdown",
   "metadata": {},
   "source": [
    "Create pandas dataframe with objects in rows and features in columns"
   ]
  },
  {
   "cell_type": "code",
   "execution_count": 32,
   "metadata": {
    "ExecuteTime": {
     "end_time": "2018-06-11T21:26:55.141817Z",
     "start_time": "2018-06-11T21:26:55.136302Z"
    }
   },
   "outputs": [],
   "source": [
    "import pandas as pd\n",
    "X = pd.DataFrame(boston.data, columns=boston.feature_names)\n",
    "y = boston.target"
   ]
  },
  {
   "cell_type": "code",
   "execution_count": 33,
   "metadata": {
    "ExecuteTime": {
     "end_time": "2018-06-11T21:26:55.831242Z",
     "start_time": "2018-06-11T21:26:55.809952Z"
    }
   },
   "outputs": [
    {
     "data": {
      "text/html": [
       "<div>\n",
       "<style scoped>\n",
       "    .dataframe tbody tr th:only-of-type {\n",
       "        vertical-align: middle;\n",
       "    }\n",
       "\n",
       "    .dataframe tbody tr th {\n",
       "        vertical-align: top;\n",
       "    }\n",
       "\n",
       "    .dataframe thead th {\n",
       "        text-align: right;\n",
       "    }\n",
       "</style>\n",
       "<table border=\"1\" class=\"dataframe\">\n",
       "  <thead>\n",
       "    <tr style=\"text-align: right;\">\n",
       "      <th></th>\n",
       "      <th>CRIM</th>\n",
       "      <th>ZN</th>\n",
       "      <th>INDUS</th>\n",
       "      <th>CHAS</th>\n",
       "      <th>NOX</th>\n",
       "      <th>RM</th>\n",
       "      <th>AGE</th>\n",
       "      <th>DIS</th>\n",
       "      <th>RAD</th>\n",
       "      <th>TAX</th>\n",
       "      <th>PTRATIO</th>\n",
       "      <th>B</th>\n",
       "      <th>LSTAT</th>\n",
       "    </tr>\n",
       "  </thead>\n",
       "  <tbody>\n",
       "    <tr>\n",
       "      <th>0</th>\n",
       "      <td>0.00632</td>\n",
       "      <td>18.0</td>\n",
       "      <td>2.31</td>\n",
       "      <td>0.0</td>\n",
       "      <td>0.538</td>\n",
       "      <td>6.575</td>\n",
       "      <td>65.2</td>\n",
       "      <td>4.0900</td>\n",
       "      <td>1.0</td>\n",
       "      <td>296.0</td>\n",
       "      <td>15.3</td>\n",
       "      <td>396.90</td>\n",
       "      <td>4.98</td>\n",
       "    </tr>\n",
       "    <tr>\n",
       "      <th>1</th>\n",
       "      <td>0.02731</td>\n",
       "      <td>0.0</td>\n",
       "      <td>7.07</td>\n",
       "      <td>0.0</td>\n",
       "      <td>0.469</td>\n",
       "      <td>6.421</td>\n",
       "      <td>78.9</td>\n",
       "      <td>4.9671</td>\n",
       "      <td>2.0</td>\n",
       "      <td>242.0</td>\n",
       "      <td>17.8</td>\n",
       "      <td>396.90</td>\n",
       "      <td>9.14</td>\n",
       "    </tr>\n",
       "    <tr>\n",
       "      <th>2</th>\n",
       "      <td>0.02729</td>\n",
       "      <td>0.0</td>\n",
       "      <td>7.07</td>\n",
       "      <td>0.0</td>\n",
       "      <td>0.469</td>\n",
       "      <td>7.185</td>\n",
       "      <td>61.1</td>\n",
       "      <td>4.9671</td>\n",
       "      <td>2.0</td>\n",
       "      <td>242.0</td>\n",
       "      <td>17.8</td>\n",
       "      <td>392.83</td>\n",
       "      <td>4.03</td>\n",
       "    </tr>\n",
       "    <tr>\n",
       "      <th>3</th>\n",
       "      <td>0.03237</td>\n",
       "      <td>0.0</td>\n",
       "      <td>2.18</td>\n",
       "      <td>0.0</td>\n",
       "      <td>0.458</td>\n",
       "      <td>6.998</td>\n",
       "      <td>45.8</td>\n",
       "      <td>6.0622</td>\n",
       "      <td>3.0</td>\n",
       "      <td>222.0</td>\n",
       "      <td>18.7</td>\n",
       "      <td>394.63</td>\n",
       "      <td>2.94</td>\n",
       "    </tr>\n",
       "    <tr>\n",
       "      <th>4</th>\n",
       "      <td>0.06905</td>\n",
       "      <td>0.0</td>\n",
       "      <td>2.18</td>\n",
       "      <td>0.0</td>\n",
       "      <td>0.458</td>\n",
       "      <td>7.147</td>\n",
       "      <td>54.2</td>\n",
       "      <td>6.0622</td>\n",
       "      <td>3.0</td>\n",
       "      <td>222.0</td>\n",
       "      <td>18.7</td>\n",
       "      <td>396.90</td>\n",
       "      <td>5.33</td>\n",
       "    </tr>\n",
       "  </tbody>\n",
       "</table>\n",
       "</div>"
      ],
      "text/plain": [
       "      CRIM    ZN  INDUS  CHAS    NOX     RM   AGE     DIS  RAD    TAX  \\\n",
       "0  0.00632  18.0   2.31   0.0  0.538  6.575  65.2  4.0900  1.0  296.0   \n",
       "1  0.02731   0.0   7.07   0.0  0.469  6.421  78.9  4.9671  2.0  242.0   \n",
       "2  0.02729   0.0   7.07   0.0  0.469  7.185  61.1  4.9671  2.0  242.0   \n",
       "3  0.03237   0.0   2.18   0.0  0.458  6.998  45.8  6.0622  3.0  222.0   \n",
       "4  0.06905   0.0   2.18   0.0  0.458  7.147  54.2  6.0622  3.0  222.0   \n",
       "\n",
       "   PTRATIO       B  LSTAT  \n",
       "0     15.3  396.90   4.98  \n",
       "1     17.8  396.90   9.14  \n",
       "2     17.8  392.83   4.03  \n",
       "3     18.7  394.63   2.94  \n",
       "4     18.7  396.90   5.33  "
      ]
     },
     "execution_count": 33,
     "metadata": {},
     "output_type": "execute_result"
    }
   ],
   "source": [
    "X.head()"
   ]
  },
  {
   "cell_type": "markdown",
   "metadata": {},
   "source": [
    "## Exploratory data analysis (EDA)"
   ]
  },
  {
   "cell_type": "markdown",
   "metadata": {},
   "source": [
    "All features are numerical, but note that some features are categorical (e.g., CHAS) while others are continuous."
   ]
  },
  {
   "cell_type": "code",
   "execution_count": 34,
   "metadata": {
    "ExecuteTime": {
     "end_time": "2018-06-11T21:26:57.552012Z",
     "start_time": "2018-06-11T21:26:57.510107Z"
    }
   },
   "outputs": [
    {
     "data": {
      "text/html": [
       "<div>\n",
       "<style scoped>\n",
       "    .dataframe tbody tr th:only-of-type {\n",
       "        vertical-align: middle;\n",
       "    }\n",
       "\n",
       "    .dataframe tbody tr th {\n",
       "        vertical-align: top;\n",
       "    }\n",
       "\n",
       "    .dataframe thead th {\n",
       "        text-align: right;\n",
       "    }\n",
       "</style>\n",
       "<table border=\"1\" class=\"dataframe\">\n",
       "  <thead>\n",
       "    <tr style=\"text-align: right;\">\n",
       "      <th></th>\n",
       "      <th>CRIM</th>\n",
       "      <th>ZN</th>\n",
       "      <th>INDUS</th>\n",
       "      <th>CHAS</th>\n",
       "      <th>NOX</th>\n",
       "      <th>RM</th>\n",
       "      <th>AGE</th>\n",
       "      <th>DIS</th>\n",
       "      <th>RAD</th>\n",
       "      <th>TAX</th>\n",
       "      <th>PTRATIO</th>\n",
       "      <th>B</th>\n",
       "      <th>LSTAT</th>\n",
       "    </tr>\n",
       "  </thead>\n",
       "  <tbody>\n",
       "    <tr>\n",
       "      <th>count</th>\n",
       "      <td>506.000000</td>\n",
       "      <td>506.000000</td>\n",
       "      <td>506.000000</td>\n",
       "      <td>506.000000</td>\n",
       "      <td>506.000000</td>\n",
       "      <td>506.000000</td>\n",
       "      <td>506.000000</td>\n",
       "      <td>506.000000</td>\n",
       "      <td>506.000000</td>\n",
       "      <td>506.000000</td>\n",
       "      <td>506.000000</td>\n",
       "      <td>506.000000</td>\n",
       "      <td>506.000000</td>\n",
       "    </tr>\n",
       "    <tr>\n",
       "      <th>mean</th>\n",
       "      <td>3.613524</td>\n",
       "      <td>11.363636</td>\n",
       "      <td>11.136779</td>\n",
       "      <td>0.069170</td>\n",
       "      <td>0.554695</td>\n",
       "      <td>6.284634</td>\n",
       "      <td>68.574901</td>\n",
       "      <td>3.795043</td>\n",
       "      <td>9.549407</td>\n",
       "      <td>408.237154</td>\n",
       "      <td>18.455534</td>\n",
       "      <td>356.674032</td>\n",
       "      <td>12.653063</td>\n",
       "    </tr>\n",
       "    <tr>\n",
       "      <th>std</th>\n",
       "      <td>8.601545</td>\n",
       "      <td>23.322453</td>\n",
       "      <td>6.860353</td>\n",
       "      <td>0.253994</td>\n",
       "      <td>0.115878</td>\n",
       "      <td>0.702617</td>\n",
       "      <td>28.148861</td>\n",
       "      <td>2.105710</td>\n",
       "      <td>8.707259</td>\n",
       "      <td>168.537116</td>\n",
       "      <td>2.164946</td>\n",
       "      <td>91.294864</td>\n",
       "      <td>7.141062</td>\n",
       "    </tr>\n",
       "    <tr>\n",
       "      <th>min</th>\n",
       "      <td>0.006320</td>\n",
       "      <td>0.000000</td>\n",
       "      <td>0.460000</td>\n",
       "      <td>0.000000</td>\n",
       "      <td>0.385000</td>\n",
       "      <td>3.561000</td>\n",
       "      <td>2.900000</td>\n",
       "      <td>1.129600</td>\n",
       "      <td>1.000000</td>\n",
       "      <td>187.000000</td>\n",
       "      <td>12.600000</td>\n",
       "      <td>0.320000</td>\n",
       "      <td>1.730000</td>\n",
       "    </tr>\n",
       "    <tr>\n",
       "      <th>25%</th>\n",
       "      <td>0.082045</td>\n",
       "      <td>0.000000</td>\n",
       "      <td>5.190000</td>\n",
       "      <td>0.000000</td>\n",
       "      <td>0.449000</td>\n",
       "      <td>5.885500</td>\n",
       "      <td>45.025000</td>\n",
       "      <td>2.100175</td>\n",
       "      <td>4.000000</td>\n",
       "      <td>279.000000</td>\n",
       "      <td>17.400000</td>\n",
       "      <td>375.377500</td>\n",
       "      <td>6.950000</td>\n",
       "    </tr>\n",
       "    <tr>\n",
       "      <th>50%</th>\n",
       "      <td>0.256510</td>\n",
       "      <td>0.000000</td>\n",
       "      <td>9.690000</td>\n",
       "      <td>0.000000</td>\n",
       "      <td>0.538000</td>\n",
       "      <td>6.208500</td>\n",
       "      <td>77.500000</td>\n",
       "      <td>3.207450</td>\n",
       "      <td>5.000000</td>\n",
       "      <td>330.000000</td>\n",
       "      <td>19.050000</td>\n",
       "      <td>391.440000</td>\n",
       "      <td>11.360000</td>\n",
       "    </tr>\n",
       "    <tr>\n",
       "      <th>75%</th>\n",
       "      <td>3.677083</td>\n",
       "      <td>12.500000</td>\n",
       "      <td>18.100000</td>\n",
       "      <td>0.000000</td>\n",
       "      <td>0.624000</td>\n",
       "      <td>6.623500</td>\n",
       "      <td>94.075000</td>\n",
       "      <td>5.188425</td>\n",
       "      <td>24.000000</td>\n",
       "      <td>666.000000</td>\n",
       "      <td>20.200000</td>\n",
       "      <td>396.225000</td>\n",
       "      <td>16.955000</td>\n",
       "    </tr>\n",
       "    <tr>\n",
       "      <th>max</th>\n",
       "      <td>88.976200</td>\n",
       "      <td>100.000000</td>\n",
       "      <td>27.740000</td>\n",
       "      <td>1.000000</td>\n",
       "      <td>0.871000</td>\n",
       "      <td>8.780000</td>\n",
       "      <td>100.000000</td>\n",
       "      <td>12.126500</td>\n",
       "      <td>24.000000</td>\n",
       "      <td>711.000000</td>\n",
       "      <td>22.000000</td>\n",
       "      <td>396.900000</td>\n",
       "      <td>37.970000</td>\n",
       "    </tr>\n",
       "  </tbody>\n",
       "</table>\n",
       "</div>"
      ],
      "text/plain": [
       "             CRIM          ZN       INDUS        CHAS         NOX          RM  \\\n",
       "count  506.000000  506.000000  506.000000  506.000000  506.000000  506.000000   \n",
       "mean     3.613524   11.363636   11.136779    0.069170    0.554695    6.284634   \n",
       "std      8.601545   23.322453    6.860353    0.253994    0.115878    0.702617   \n",
       "min      0.006320    0.000000    0.460000    0.000000    0.385000    3.561000   \n",
       "25%      0.082045    0.000000    5.190000    0.000000    0.449000    5.885500   \n",
       "50%      0.256510    0.000000    9.690000    0.000000    0.538000    6.208500   \n",
       "75%      3.677083   12.500000   18.100000    0.000000    0.624000    6.623500   \n",
       "max     88.976200  100.000000   27.740000    1.000000    0.871000    8.780000   \n",
       "\n",
       "              AGE         DIS         RAD         TAX     PTRATIO           B  \\\n",
       "count  506.000000  506.000000  506.000000  506.000000  506.000000  506.000000   \n",
       "mean    68.574901    3.795043    9.549407  408.237154   18.455534  356.674032   \n",
       "std     28.148861    2.105710    8.707259  168.537116    2.164946   91.294864   \n",
       "min      2.900000    1.129600    1.000000  187.000000   12.600000    0.320000   \n",
       "25%     45.025000    2.100175    4.000000  279.000000   17.400000  375.377500   \n",
       "50%     77.500000    3.207450    5.000000  330.000000   19.050000  391.440000   \n",
       "75%     94.075000    5.188425   24.000000  666.000000   20.200000  396.225000   \n",
       "max    100.000000   12.126500   24.000000  711.000000   22.000000  396.900000   \n",
       "\n",
       "            LSTAT  \n",
       "count  506.000000  \n",
       "mean    12.653063  \n",
       "std      7.141062  \n",
       "min      1.730000  \n",
       "25%      6.950000  \n",
       "50%     11.360000  \n",
       "75%     16.955000  \n",
       "max     37.970000  "
      ]
     },
     "execution_count": 34,
     "metadata": {},
     "output_type": "execute_result"
    }
   ],
   "source": [
    "X.describe()"
   ]
  },
  {
   "cell_type": "markdown",
   "metadata": {},
   "source": [
    "Let's also take a look into correlation matrix of features"
   ]
  },
  {
   "cell_type": "code",
   "execution_count": 35,
   "metadata": {
    "ExecuteTime": {
     "end_time": "2018-06-11T21:27:01.562775Z",
     "start_time": "2018-06-11T21:27:01.045691Z"
    }
   },
   "outputs": [
    {
     "data": {
      "image/png": "[encoded data removed]",
      "text/plain": [
       "<Figure size 1296x1296 with 2 Axes>"
      ]
     },
     "metadata": {
      "needs_background": "light"
     },
     "output_type": "display_data"
    }
   ],
   "source": [
    "import seaborn as sns\n",
    "# compute the correlation matrix\n",
    "corr = X.corr()\n",
    "\n",
    "# generate a mask for the lower triangle\n",
    "mask = np.zeros_like(corr, dtype=np.bool)\n",
    "mask[np.triu_indices_from(mask)] = True\n",
    "\n",
    "# set up the matplotlib figure\n",
    "f, ax = plt.subplots(figsize=(18, 18))\n",
    "\n",
    "# generate a custom diverging colormap\n",
    "cmap = sns.diverging_palette(220, 10, as_cmap=True)\n",
    "\n",
    "# draw the heatmap with the mask and correct aspect ratio\n",
    "sns.heatmap(corr, mask=mask, cmap=cmap, vmax=.3,\n",
    "            square=True, \n",
    "            linewidths=.5, cbar_kws={\"shrink\": .5}, ax=ax);"
   ]
  },
  {
   "cell_type": "markdown",
   "metadata": {},
   "source": [
    "## Preprocessing"
   ]
  },
  {
   "cell_type": "markdown",
   "metadata": {},
   "source": [
    "### Splitting the data (train/test)"
   ]
  },
  {
   "cell_type": "code",
   "execution_count": 36,
   "metadata": {
    "ExecuteTime": {
     "end_time": "2018-06-11T21:27:03.359395Z",
     "start_time": "2018-06-11T21:27:03.353615Z"
    }
   },
   "outputs": [],
   "source": [
    "from sklearn.model_selection import train_test_split\n",
    "X_train, X_test, y_train, y_test = train_test_split(X, y, test_size=0.2, random_state=42)"
   ]
  },
  {
   "cell_type": "markdown",
   "metadata": {},
   "source": [
    "### TASK: There are lots of features. Visualize any two of them vs prices, across the train and test data. "
   ]
  },
  {
   "cell_type": "code",
   "execution_count": 37,
   "metadata": {
    "ExecuteTime": {
     "end_time": "2018-06-11T21:27:03.882251Z",
     "start_time": "2018-06-11T21:27:03.599155Z"
    }
   },
   "outputs": [
    {
     "data": {
      "text/plain": [
       "<matplotlib.legend.Legend at 0x1a24790da0>"
      ]
     },
     "execution_count": 37,
     "metadata": {},
     "output_type": "execute_result"
    },
    {
     "data": {
      "image/png": "[encoded data removed]",
      "text/plain": [
       "<Figure size 720x288 with 1 Axes>"
      ]
     },
     "metadata": {
      "needs_background": "light"
     },
     "output_type": "display_data"
    }
   ],
   "source": [
    "plt.figure(figsize=(10,4))\n",
    "plt.scatter(X_train[\"DIS\"],y_train, label = \"weighted distances, for training data\")\n",
    "plt.legend()"
   ]
  },
  {
   "cell_type": "code",
   "execution_count": 38,
   "metadata": {
    "ExecuteTime": {
     "end_time": "2018-06-11T21:27:03.882251Z",
     "start_time": "2018-06-11T21:27:03.599155Z"
    }
   },
   "outputs": [
    {
     "data": {
      "text/plain": [
       "<matplotlib.legend.Legend at 0x1a24842320>"
      ]
     },
     "execution_count": 38,
     "metadata": {},
     "output_type": "execute_result"
    },
    {
     "data": {
      "image/png": "[encoded data removed]",
      "text/plain": [
       "<Figure size 720x288 with 1 Axes>"
      ]
     },
     "metadata": {
      "needs_background": "light"
     },
     "output_type": "display_data"
    }
   ],
   "source": [
    "plt.figure(figsize=(10,4))\n",
    "plt.scatter(X_test[\"DIS\"],y_test, label = \"weighted distances, for test data\")\n",
    "plt.legend()"
   ]
  },
  {
   "cell_type": "code",
   "execution_count": 39,
   "metadata": {},
   "outputs": [
    {
     "data": {
      "text/plain": [
       "<matplotlib.legend.Legend at 0x1a248a58d0>"
      ]
     },
     "execution_count": 39,
     "metadata": {},
     "output_type": "execute_result"
    },
    {
     "data": {
      "image/png": "[encoded data removed]",
      "text/plain": [
       "<Figure size 720x288 with 1 Axes>"
      ]
     },
     "metadata": {
      "needs_background": "light"
     },
     "output_type": "display_data"
    }
   ],
   "source": [
    "plt.figure(figsize=(10,4))\n",
    "plt.scatter(X_train[\"RM\"],y_train,label = \"average number of rooms per dwelling, for training data\")\n",
    "plt.legend()"
   ]
  },
  {
   "cell_type": "code",
   "execution_count": 40,
   "metadata": {},
   "outputs": [
    {
     "data": {
      "text/plain": [
       "<matplotlib.legend.Legend at 0x1a249bf358>"
      ]
     },
     "execution_count": 40,
     "metadata": {},
     "output_type": "execute_result"
    },
    {
     "data": {
      "image/png": "[encoded data removed]",
      "text/plain": [
       "<Figure size 720x288 with 1 Axes>"
      ]
     },
     "metadata": {
      "needs_background": "light"
     },
     "output_type": "display_data"
    }
   ],
   "source": [
    "plt.figure(figsize=(10,4))\n",
    "plt.scatter(X_test[\"RM\"],y_test,label = \"average number of rooms per dwelling, for test data\")\n",
    "plt.legend()"
   ]
  },
  {
   "cell_type": "markdown",
   "metadata": {},
   "source": [
    "### Scaling"
   ]
  },
  {
   "cell_type": "markdown",
   "metadata": {},
   "source": [
    "Normalize data in the range $(0,1)$ to make our data insensitive to the scale of features."
   ]
  },
  {
   "cell_type": "markdown",
   "metadata": {},
   "source": [
    "Note that we're going to learn normalization constants only on training set. That's done because the assumption is that test set is unreachable during training."
   ]
  },
  {
   "cell_type": "code",
   "execution_count": 41,
   "metadata": {
    "ExecuteTime": {
     "end_time": "2018-06-11T21:27:05.634258Z",
     "start_time": "2018-06-11T21:27:05.630689Z"
    }
   },
   "outputs": [],
   "source": [
    "from sklearn.preprocessing import MinMaxScaler\n",
    "scaler = MinMaxScaler()"
   ]
  },
  {
   "cell_type": "code",
   "execution_count": 42,
   "metadata": {
    "ExecuteTime": {
     "end_time": "2018-06-11T21:27:06.270714Z",
     "start_time": "2018-06-11T21:27:06.266642Z"
    }
   },
   "outputs": [],
   "source": [
    "X_train = scaler.fit_transform(X_train)"
   ]
  },
  {
   "cell_type": "markdown",
   "metadata": {},
   "source": [
    "Transform test set with the same constants"
   ]
  },
  {
   "cell_type": "code",
   "execution_count": 43,
   "metadata": {
    "ExecuteTime": {
     "end_time": "2018-06-11T21:27:06.626688Z",
     "start_time": "2018-06-11T21:27:06.618064Z"
    }
   },
   "outputs": [
    {
     "name": "stdout",
     "output_type": "stream",
     "text": [
      "<class 'pandas.core.frame.DataFrame'>\n",
      "Int64Index: 102 entries, 173 to 75\n",
      "Data columns (total 13 columns):\n",
      "CRIM       102 non-null float64\n",
      "ZN         102 non-null float64\n",
      "INDUS      102 non-null float64\n",
      "CHAS       102 non-null float64\n",
      "NOX        102 non-null float64\n",
      "RM         102 non-null float64\n",
      "AGE        102 non-null float64\n",
      "DIS        102 non-null float64\n",
      "RAD        102 non-null float64\n",
      "TAX        102 non-null float64\n",
      "PTRATIO    102 non-null float64\n",
      "B          102 non-null float64\n",
      "LSTAT      102 non-null float64\n",
      "dtypes: float64(13)\n",
      "memory usage: 11.2 KB\n"
     ]
    }
   ],
   "source": [
    "X_test.info()"
   ]
  },
  {
   "cell_type": "code",
   "execution_count": 44,
   "metadata": {},
   "outputs": [],
   "source": [
    "X_test = scaler.transform(X_test)"
   ]
  },
  {
   "cell_type": "code",
   "execution_count": 45,
   "metadata": {},
   "outputs": [
    {
     "data": {
      "text/html": [
       "<div>\n",
       "<style scoped>\n",
       "    .dataframe tbody tr th:only-of-type {\n",
       "        vertical-align: middle;\n",
       "    }\n",
       "\n",
       "    .dataframe tbody tr th {\n",
       "        vertical-align: top;\n",
       "    }\n",
       "\n",
       "    .dataframe thead th {\n",
       "        text-align: right;\n",
       "    }\n",
       "</style>\n",
       "<table border=\"1\" class=\"dataframe\">\n",
       "  <thead>\n",
       "    <tr style=\"text-align: right;\">\n",
       "      <th></th>\n",
       "      <th>CRIM</th>\n",
       "      <th>ZN</th>\n",
       "      <th>INDUS</th>\n",
       "      <th>CHAS</th>\n",
       "      <th>NOX</th>\n",
       "      <th>RM</th>\n",
       "      <th>AGE</th>\n",
       "      <th>DIS</th>\n",
       "      <th>RAD</th>\n",
       "      <th>TAX</th>\n",
       "      <th>PTRATIO</th>\n",
       "      <th>B</th>\n",
       "      <th>LSTAT</th>\n",
       "    </tr>\n",
       "  </thead>\n",
       "  <tbody>\n",
       "    <tr>\n",
       "      <th>count</th>\n",
       "      <td>506.000000</td>\n",
       "      <td>506.000000</td>\n",
       "      <td>506.000000</td>\n",
       "      <td>506.000000</td>\n",
       "      <td>506.000000</td>\n",
       "      <td>506.000000</td>\n",
       "      <td>506.000000</td>\n",
       "      <td>506.000000</td>\n",
       "      <td>506.000000</td>\n",
       "      <td>506.000000</td>\n",
       "      <td>506.000000</td>\n",
       "      <td>506.000000</td>\n",
       "      <td>506.000000</td>\n",
       "    </tr>\n",
       "    <tr>\n",
       "      <th>mean</th>\n",
       "      <td>3.613524</td>\n",
       "      <td>11.363636</td>\n",
       "      <td>11.136779</td>\n",
       "      <td>0.069170</td>\n",
       "      <td>0.554695</td>\n",
       "      <td>6.284634</td>\n",
       "      <td>68.574901</td>\n",
       "      <td>3.795043</td>\n",
       "      <td>9.549407</td>\n",
       "      <td>408.237154</td>\n",
       "      <td>18.455534</td>\n",
       "      <td>356.674032</td>\n",
       "      <td>12.653063</td>\n",
       "    </tr>\n",
       "    <tr>\n",
       "      <th>std</th>\n",
       "      <td>8.601545</td>\n",
       "      <td>23.322453</td>\n",
       "      <td>6.860353</td>\n",
       "      <td>0.253994</td>\n",
       "      <td>0.115878</td>\n",
       "      <td>0.702617</td>\n",
       "      <td>28.148861</td>\n",
       "      <td>2.105710</td>\n",
       "      <td>8.707259</td>\n",
       "      <td>168.537116</td>\n",
       "      <td>2.164946</td>\n",
       "      <td>91.294864</td>\n",
       "      <td>7.141062</td>\n",
       "    </tr>\n",
       "    <tr>\n",
       "      <th>min</th>\n",
       "      <td>0.006320</td>\n",
       "      <td>0.000000</td>\n",
       "      <td>0.460000</td>\n",
       "      <td>0.000000</td>\n",
       "      <td>0.385000</td>\n",
       "      <td>3.561000</td>\n",
       "      <td>2.900000</td>\n",
       "      <td>1.129600</td>\n",
       "      <td>1.000000</td>\n",
       "      <td>187.000000</td>\n",
       "      <td>12.600000</td>\n",
       "      <td>0.320000</td>\n",
       "      <td>1.730000</td>\n",
       "    </tr>\n",
       "    <tr>\n",
       "      <th>25%</th>\n",
       "      <td>0.082045</td>\n",
       "      <td>0.000000</td>\n",
       "      <td>5.190000</td>\n",
       "      <td>0.000000</td>\n",
       "      <td>0.449000</td>\n",
       "      <td>5.885500</td>\n",
       "      <td>45.025000</td>\n",
       "      <td>2.100175</td>\n",
       "      <td>4.000000</td>\n",
       "      <td>279.000000</td>\n",
       "      <td>17.400000</td>\n",
       "      <td>375.377500</td>\n",
       "      <td>6.950000</td>\n",
       "    </tr>\n",
       "    <tr>\n",
       "      <th>50%</th>\n",
       "      <td>0.256510</td>\n",
       "      <td>0.000000</td>\n",
       "      <td>9.690000</td>\n",
       "      <td>0.000000</td>\n",
       "      <td>0.538000</td>\n",
       "      <td>6.208500</td>\n",
       "      <td>77.500000</td>\n",
       "      <td>3.207450</td>\n",
       "      <td>5.000000</td>\n",
       "      <td>330.000000</td>\n",
       "      <td>19.050000</td>\n",
       "      <td>391.440000</td>\n",
       "      <td>11.360000</td>\n",
       "    </tr>\n",
       "    <tr>\n",
       "      <th>75%</th>\n",
       "      <td>3.677083</td>\n",
       "      <td>12.500000</td>\n",
       "      <td>18.100000</td>\n",
       "      <td>0.000000</td>\n",
       "      <td>0.624000</td>\n",
       "      <td>6.623500</td>\n",
       "      <td>94.075000</td>\n",
       "      <td>5.188425</td>\n",
       "      <td>24.000000</td>\n",
       "      <td>666.000000</td>\n",
       "      <td>20.200000</td>\n",
       "      <td>396.225000</td>\n",
       "      <td>16.955000</td>\n",
       "    </tr>\n",
       "    <tr>\n",
       "      <th>max</th>\n",
       "      <td>88.976200</td>\n",
       "      <td>100.000000</td>\n",
       "      <td>27.740000</td>\n",
       "      <td>1.000000</td>\n",
       "      <td>0.871000</td>\n",
       "      <td>8.780000</td>\n",
       "      <td>100.000000</td>\n",
       "      <td>12.126500</td>\n",
       "      <td>24.000000</td>\n",
       "      <td>711.000000</td>\n",
       "      <td>22.000000</td>\n",
       "      <td>396.900000</td>\n",
       "      <td>37.970000</td>\n",
       "    </tr>\n",
       "  </tbody>\n",
       "</table>\n",
       "</div>"
      ],
      "text/plain": [
       "             CRIM          ZN       INDUS        CHAS         NOX          RM  \\\n",
       "count  506.000000  506.000000  506.000000  506.000000  506.000000  506.000000   \n",
       "mean     3.613524   11.363636   11.136779    0.069170    0.554695    6.284634   \n",
       "std      8.601545   23.322453    6.860353    0.253994    0.115878    0.702617   \n",
       "min      0.006320    0.000000    0.460000    0.000000    0.385000    3.561000   \n",
       "25%      0.082045    0.000000    5.190000    0.000000    0.449000    5.885500   \n",
       "50%      0.256510    0.000000    9.690000    0.000000    0.538000    6.208500   \n",
       "75%      3.677083   12.500000   18.100000    0.000000    0.624000    6.623500   \n",
       "max     88.976200  100.000000   27.740000    1.000000    0.871000    8.780000   \n",
       "\n",
       "              AGE         DIS         RAD         TAX     PTRATIO           B  \\\n",
       "count  506.000000  506.000000  506.000000  506.000000  506.000000  506.000000   \n",
       "mean    68.574901    3.795043    9.549407  408.237154   18.455534  356.674032   \n",
       "std     28.148861    2.105710    8.707259  168.537116    2.164946   91.294864   \n",
       "min      2.900000    1.129600    1.000000  187.000000   12.600000    0.320000   \n",
       "25%     45.025000    2.100175    4.000000  279.000000   17.400000  375.377500   \n",
       "50%     77.500000    3.207450    5.000000  330.000000   19.050000  391.440000   \n",
       "75%     94.075000    5.188425   24.000000  666.000000   20.200000  396.225000   \n",
       "max    100.000000   12.126500   24.000000  711.000000   22.000000  396.900000   \n",
       "\n",
       "            LSTAT  \n",
       "count  506.000000  \n",
       "mean    12.653063  \n",
       "std      7.141062  \n",
       "min      1.730000  \n",
       "25%      6.950000  \n",
       "50%     11.360000  \n",
       "75%     16.955000  \n",
       "max     37.970000  "
      ]
     },
     "execution_count": 45,
     "metadata": {},
     "output_type": "execute_result"
    }
   ],
   "source": [
    "# y.hist()\n",
    "X.describe()"
   ]
  },
  {
   "cell_type": "markdown",
   "metadata": {
    "ExecuteTime": {
     "end_time": "2018-06-11T21:27:06.904879Z",
     "start_time": "2018-06-11T21:27:06.899325Z"
    }
   },
   "source": [
    "Plot a histogram of probability of 'House Prices'"
   ]
  },
  {
   "cell_type": "code",
   "execution_count": 46,
   "metadata": {
    "ExecuteTime": {
     "end_time": "2018-06-11T21:27:10.223654Z",
     "start_time": "2018-06-11T21:27:10.007646Z"
    }
   },
   "outputs": [
    {
     "name": "stderr",
     "output_type": "stream",
     "text": [
      "/Users/shah.peace/anaconda3/lib/python3.7/site-packages/matplotlib/axes/_axes.py:6521: MatplotlibDeprecationWarning: \n",
      "The 'normed' kwarg was deprecated in Matplotlib 2.1 and will be removed in 3.1. Use 'density' instead.\n",
      "  alternative=\"'density'\", removal=\"3.1\")\n"
     ]
    },
    {
     "data": {
      "image/png": "[encoded data removed]",
      "text/plain": [
       "<Figure size 432x288 with 1 Axes>"
      ]
     },
     "metadata": {
      "needs_background": "light"
     },
     "output_type": "display_data"
    }
   ],
   "source": [
    "# the histogram of the data\n",
    "\n",
    "n, bins, patches = plt.hist(y, 50, normed=1, facecolor='green', alpha=0.75)\n",
    "\n",
    "# add a 'best fit' line\n",
    "# l = plt.plot(bins, y, 'r--', linewidth=1)\n",
    "\n",
    "\n",
    "plt.xlabel('House prices')\n",
    "plt.ylabel('Probability')\n",
    "plt.title(r'Histogram of Median value of owner-occupied homes in $1,000s')\n",
    "# plt.axis([40, 160, 0, 0.03])\n",
    "plt.grid(True)\n",
    "\n",
    "plt.show()"
   ]
  },
  {
   "cell_type": "markdown",
   "metadata": {},
   "source": [
    "### TASK: Plot distributions of each input variable"
   ]
  },
  {
   "cell_type": "code",
   "execution_count": 47,
   "metadata": {},
   "outputs": [
    {
     "data": {
      "text/plain": [
       "Index(['CRIM', 'ZN', 'INDUS', 'CHAS', 'NOX', 'RM', 'AGE', 'DIS', 'RAD', 'TAX',\n",
       "       'PTRATIO', 'B', 'LSTAT'],\n",
       "      dtype='object')"
      ]
     },
     "execution_count": 47,
     "metadata": {},
     "output_type": "execute_result"
    }
   ],
   "source": [
    "X.columns"
   ]
  },
  {
   "cell_type": "code",
   "execution_count": 48,
   "metadata": {
    "ExecuteTime": {
     "end_time": "2018-06-11T21:27:16.655645Z",
     "start_time": "2018-06-11T21:27:14.683795Z"
    }
   },
   "outputs": [
    {
     "name": "stderr",
     "output_type": "stream",
     "text": [
      "/Users/shah.peace/anaconda3/lib/python3.7/site-packages/matplotlib/axes/_axes.py:6521: MatplotlibDeprecationWarning: \n",
      "The 'normed' kwarg was deprecated in Matplotlib 2.1 and will be removed in 3.1. Use 'density' instead.\n",
      "  alternative=\"'density'\", removal=\"3.1\")\n"
     ]
    },
    {
     "data": {
      "image/png": "[encoded data removed]",
      "text/plain": [
       "<Figure size 432x288 with 1 Axes>"
      ]
     },
     "metadata": {
      "needs_background": "light"
     },
     "output_type": "display_data"
    },
    {
     "name": "stderr",
     "output_type": "stream",
     "text": [
      "/Users/shah.peace/anaconda3/lib/python3.7/site-packages/matplotlib/axes/_axes.py:6521: MatplotlibDeprecationWarning: \n",
      "The 'normed' kwarg was deprecated in Matplotlib 2.1 and will be removed in 3.1. Use 'density' instead.\n",
      "  alternative=\"'density'\", removal=\"3.1\")\n"
     ]
    },
    {
     "data": {
      "image/png": "[encoded data removed]",
      "text/plain": [
       "<Figure size 432x288 with 1 Axes>"
      ]
     },
     "metadata": {
      "needs_background": "light"
     },
     "output_type": "display_data"
    },
    {
     "name": "stderr",
     "output_type": "stream",
     "text": [
      "/Users/shah.peace/anaconda3/lib/python3.7/site-packages/matplotlib/axes/_axes.py:6521: MatplotlibDeprecationWarning: \n",
      "The 'normed' kwarg was deprecated in Matplotlib 2.1 and will be removed in 3.1. Use 'density' instead.\n",
      "  alternative=\"'density'\", removal=\"3.1\")\n"
     ]
    },
    {
     "data": {
      "image/png": "[encoded data removed]",
      "text/plain": [
       "<Figure size 432x288 with 1 Axes>"
      ]
     },
     "metadata": {
      "needs_background": "light"
     },
     "output_type": "display_data"
    },
    {
     "name": "stderr",
     "output_type": "stream",
     "text": [
      "/Users/shah.peace/anaconda3/lib/python3.7/site-packages/matplotlib/axes/_axes.py:6521: MatplotlibDeprecationWarning: \n",
      "The 'normed' kwarg was deprecated in Matplotlib 2.1 and will be removed in 3.1. Use 'density' instead.\n",
      "  alternative=\"'density'\", removal=\"3.1\")\n"
     ]
    },
    {
     "data": {
      "image/png": "[encoded data removed]",
      "text/plain": [
       "<Figure size 432x288 with 1 Axes>"
      ]
     },
     "metadata": {
      "needs_background": "light"
     },
     "output_type": "display_data"
    },
    {
     "name": "stderr",
     "output_type": "stream",
     "text": [
      "/Users/shah.peace/anaconda3/lib/python3.7/site-packages/matplotlib/axes/_axes.py:6521: MatplotlibDeprecationWarning: \n",
      "The 'normed' kwarg was deprecated in Matplotlib 2.1 and will be removed in 3.1. Use 'density' instead.\n",
      "  alternative=\"'density'\", removal=\"3.1\")\n"
     ]
    },
    {
     "data": {
      "image/png": "[encoded data removed]",
      "text/plain": [
       "<Figure size 432x288 with 1 Axes>"
      ]
     },
     "metadata": {
      "needs_background": "light"
     },
     "output_type": "display_data"
    },
    {
     "name": "stderr",
     "output_type": "stream",
     "text": [
      "/Users/shah.peace/anaconda3/lib/python3.7/site-packages/matplotlib/axes/_axes.py:6521: MatplotlibDeprecationWarning: \n",
      "The 'normed' kwarg was deprecated in Matplotlib 2.1 and will be removed in 3.1. Use 'density' instead.\n",
      "  alternative=\"'density'\", removal=\"3.1\")\n"
     ]
    },
    {
     "data": {
      "image/png": "[encoded data removed]",
      "text/plain": [
       "<Figure size 432x288 with 1 Axes>"
      ]
     },
     "metadata": {
      "needs_background": "light"
     },
     "output_type": "display_data"
    },
    {
     "name": "stderr",
     "output_type": "stream",
     "text": [
      "/Users/shah.peace/anaconda3/lib/python3.7/site-packages/matplotlib/axes/_axes.py:6521: MatplotlibDeprecationWarning: \n",
      "The 'normed' kwarg was deprecated in Matplotlib 2.1 and will be removed in 3.1. Use 'density' instead.\n",
      "  alternative=\"'density'\", removal=\"3.1\")\n"
     ]
    },
    {
     "data": {
      "image/png": "[encoded data removed]",
      "text/plain": [
       "<Figure size 432x288 with 1 Axes>"
      ]
     },
     "metadata": {
      "needs_background": "light"
     },
     "output_type": "display_data"
    },
    {
     "name": "stderr",
     "output_type": "stream",
     "text": [
      "/Users/shah.peace/anaconda3/lib/python3.7/site-packages/matplotlib/axes/_axes.py:6521: MatplotlibDeprecationWarning: \n",
      "The 'normed' kwarg was deprecated in Matplotlib 2.1 and will be removed in 3.1. Use 'density' instead.\n",
      "  alternative=\"'density'\", removal=\"3.1\")\n"
     ]
    },
    {
     "data": {
      "image/png": "[encoded data removed]",
      "text/plain": [
       "<Figure size 432x288 with 1 Axes>"
      ]
     },
     "metadata": {
      "needs_background": "light"
     },
     "output_type": "display_data"
    },
    {
     "name": "stderr",
     "output_type": "stream",
     "text": [
      "/Users/shah.peace/anaconda3/lib/python3.7/site-packages/matplotlib/axes/_axes.py:6521: MatplotlibDeprecationWarning: \n",
      "The 'normed' kwarg was deprecated in Matplotlib 2.1 and will be removed in 3.1. Use 'density' instead.\n",
      "  alternative=\"'density'\", removal=\"3.1\")\n"
     ]
    },
    {
     "data": {
      "image/png": "[encoded data removed]",
      "text/plain": [
       "<Figure size 432x288 with 1 Axes>"
      ]
     },
     "metadata": {
      "needs_background": "light"
     },
     "output_type": "display_data"
    },
    {
     "name": "stderr",
     "output_type": "stream",
     "text": [
      "/Users/shah.peace/anaconda3/lib/python3.7/site-packages/matplotlib/axes/_axes.py:6521: MatplotlibDeprecationWarning: \n",
      "The 'normed' kwarg was deprecated in Matplotlib 2.1 and will be removed in 3.1. Use 'density' instead.\n",
      "  alternative=\"'density'\", removal=\"3.1\")\n"
     ]
    },
    {
     "data": {
      "image/png": "[encoded data removed]",
      "text/plain": [
       "<Figure size 432x288 with 1 Axes>"
      ]
     },
     "metadata": {
      "needs_background": "light"
     },
     "output_type": "display_data"
    },
    {
     "name": "stderr",
     "output_type": "stream",
     "text": [
      "/Users/shah.peace/anaconda3/lib/python3.7/site-packages/matplotlib/axes/_axes.py:6521: MatplotlibDeprecationWarning: \n",
      "The 'normed' kwarg was deprecated in Matplotlib 2.1 and will be removed in 3.1. Use 'density' instead.\n",
      "  alternative=\"'density'\", removal=\"3.1\")\n"
     ]
    },
    {
     "data": {
      "image/png": "[encoded data removed]",
      "text/plain": [
       "<Figure size 432x288 with 1 Axes>"
      ]
     },
     "metadata": {
      "needs_background": "light"
     },
     "output_type": "display_data"
    },
    {
     "name": "stderr",
     "output_type": "stream",
     "text": [
      "/Users/shah.peace/anaconda3/lib/python3.7/site-packages/matplotlib/axes/_axes.py:6521: MatplotlibDeprecationWarning: \n",
      "The 'normed' kwarg was deprecated in Matplotlib 2.1 and will be removed in 3.1. Use 'density' instead.\n",
      "  alternative=\"'density'\", removal=\"3.1\")\n"
     ]
    },
    {
     "data": {
      "image/png": "[encoded data removed]",
      "text/plain": [
       "<Figure size 432x288 with 1 Axes>"
      ]
     },
     "metadata": {
      "needs_background": "light"
     },
     "output_type": "display_data"
    },
    {
     "name": "stderr",
     "output_type": "stream",
     "text": [
      "/Users/shah.peace/anaconda3/lib/python3.7/site-packages/matplotlib/axes/_axes.py:6521: MatplotlibDeprecationWarning: \n",
      "The 'normed' kwarg was deprecated in Matplotlib 2.1 and will be removed in 3.1. Use 'density' instead.\n",
      "  alternative=\"'density'\", removal=\"3.1\")\n"
     ]
    },
    {
     "data": {
      "image/png": "[encoded data removed]",
      "text/plain": [
       "<Figure size 432x288 with 1 Axes>"
      ]
     },
     "metadata": {
      "needs_background": "light"
     },
     "output_type": "display_data"
    }
   ],
   "source": [
    "%matplotlib inline\n",
    "import matplotlib.pyplot as plt\n",
    "\n",
    "attributes = ['CRIM', 'ZN', 'INDUS', 'CHAS', 'NOX', 'RM', 'AGE', 'DIS', 'RAD', 'TAX','PTRATIO', 'B', 'LSTAT']\n",
    "attributes_info = ['per capita crime rate by town', 'proportion of residential land zoned for lots over 25,000 sq.ft.',\n",
    "                   'proportion of non-retail business acres per town', \n",
    "                   'Charles River dummy variable', 'nitric oxides concentration (parts per 10 million)', \n",
    "                   'average number of rooms per dwelling', 'proportion of owner-occupied units built prior to 1940',\n",
    "                   'weighted distances to five Boston employment centres',\n",
    "                   'index of accessibility to radial highways', 'full-value property-tax rate per $10,000',\n",
    "                   'pupil-teacher ratio by town', '1000(Bk - 0.63)^2 where Bk is the proportion of blacks by town',\n",
    "                   '% lower status of the population', 'Median value of owner-occupied homes in $1000s']\n",
    "attributes_dict = dict(zip(attributes,attributes_info))\n",
    "\n",
    "for i in attributes:\n",
    "    n, bins, patches = plt.hist(X[i], 50, normed=1, facecolor='green', alpha=0.75)\n",
    "    plt.xlabel(attributes_dict[i])\n",
    "    plt.ylabel('Probability')\n",
    "    plt.title(r'Histogram of Median value of owner-occupied homes in $1,000s')\n",
    "    plt.grid(True)\n",
    "    plt.show()"
   ]
  },
  {
   "cell_type": "markdown",
   "metadata": {},
   "source": [
    "<h1>TASK: Extend Closed form MSE to consider Multiple Linear Regression </h1>\n",
    "\n",
    "Via NORMAL eqn for multiple linear regression. Hint: use Numpy and adopt the code above. Demonstrate on the Boston House pricing data (split data into train-test; using 20% as a blind test set)"
   ]
  },
  {
   "cell_type": "markdown",
   "metadata": {},
   "source": []
  },
  {
   "cell_type": "code",
   "execution_count": 49,
   "metadata": {},
   "outputs": [],
   "source": [
    "X_train, X_test, y_train, y_test = train_test_split(X, y, test_size=0.2, random_state=42)"
   ]
  },
  {
   "cell_type": "code",
   "execution_count": 50,
   "metadata": {},
   "outputs": [],
   "source": [
    "X_train = np.c_[np.ones(X_train.shape[0]), X_train]\n",
    "X_train.shape\n",
    "\n",
    "# Normal Equation:\n",
    "A = np.dot(X_train.T,X_train)\n",
    "A_inv = np.linalg.inv(A)\n",
    "A_inv_X_train = np.dot(A_inv,X_train.T)\n",
    "theta = np.dot(y_train,A_inv_X_train.T)"
   ]
  },
  {
   "cell_type": "code",
   "execution_count": 51,
   "metadata": {},
   "outputs": [
    {
     "name": "stdout",
     "output_type": "stream",
     "text": [
      "Closed Form solution for theta(bias, slopes): (30.247, [-0.113, 0.03, 0.04, 2.784, -17.203, 4.439, -0.006, -1.448, 0.262, -0.011, -0.915, 0.012, -0.509])\n"
     ]
    }
   ],
   "source": [
    "# b_cf, m_cf = intercept, slope\n",
    "#intercept\n",
    "b2_cf = np.array(theta[0])\n",
    "w_cf = theta[1:]\n",
    "\n",
    "print(f\"Closed Form solution for theta(bias, slopes): {np.round((b2_cf),3),list(np.round((w_cf),3))}\")\n",
    "# print(f\"y = {np.round(m_cf,3)}x + {np.round(b2_cf,3)} Learnt Model via linear regression\")\n",
    "# print(f\"y = {np.round(m,3)}  x + {np.round(b,3)}     TRUE   Model  \")"
   ]
  },
  {
   "cell_type": "code",
   "execution_count": null,
   "metadata": {},
   "outputs": [],
   "source": []
  },
  {
   "cell_type": "markdown",
   "metadata": {},
   "source": [
    "#### Generate predictions for Test Data"
   ]
  },
  {
   "cell_type": "code",
   "execution_count": 52,
   "metadata": {},
   "outputs": [
    {
     "data": {
      "text/plain": [
       "(102, 14)"
      ]
     },
     "execution_count": 52,
     "metadata": {},
     "output_type": "execute_result"
    }
   ],
   "source": [
    "X_test = np.c_[np.ones(X_test.shape[0]), X_test]\n",
    "X_test.shape"
   ]
  },
  {
   "cell_type": "code",
   "execution_count": 53,
   "metadata": {},
   "outputs": [],
   "source": [
    "preds = np.dot(X_test,theta)"
   ]
  },
  {
   "cell_type": "code",
   "execution_count": 54,
   "metadata": {},
   "outputs": [
    {
     "name": "stdout",
     "output_type": "stream",
     "text": [
      "Predictions shape:\n",
      " (102,)\n",
      "\n",
      "Predictions:\n",
      " [28.99672362 36.02556534 14.81694405 25.03197915 18.76987992 23.25442929\n",
      " 17.66253818 14.34119    23.01320703 20.63245597 24.90850512 18.63883645\n",
      " -6.08842184 21.75834668 19.23922576 26.19319733 20.64773313  5.79472718\n",
      " 40.50033966 17.61289074 27.24909479 30.06625441 11.34179277 24.16077616\n",
      " 17.86058499 15.83609765 22.78148106 14.57704449 22.43626052 19.19631835\n",
      " 22.43383455 25.21979081 25.93909562 17.70162434 16.76911711 16.95125411\n",
      " 31.23340153 20.13246729 23.76579011 24.6322925  13.94204955 32.25576301\n",
      " 42.67251161 17.32745046 27.27618614 16.99310991 14.07009109 25.90341861\n",
      " 20.29485982 29.95339638 21.28860173 34.34451856 16.04739105 26.22562412\n",
      " 39.53939798 22.57950697 18.84531367 32.72531661 25.0673037  12.88628956\n",
      " 22.68221908 30.48287757 31.52626806 15.90148607 20.22094826 16.71089812\n",
      " 20.52384893 25.96356264 30.61607978 11.59783023 20.51232627 27.48111878\n",
      " 11.01962332 15.68096344 23.79316251  6.19929359 21.6039073  41.41377225\n",
      " 18.76548695  8.87931901 20.83076916 13.25620627 20.73963699  9.36482222\n",
      " 23.22444271 31.9155003  19.10228271 25.51579303 29.04256769 20.14358566\n",
      " 25.5859787   5.70159447 20.09474756 14.95069156 12.50395648 20.72635294\n",
      " 24.73957161 -0.164237   13.68486682 16.18359697 22.27621999 24.47902364]\n"
     ]
    }
   ],
   "source": [
    "print(\"Predictions shape:\\n\", preds.shape)\n",
    "print(\"\\nPredictions:\\n\", preds)"
   ]
  },
  {
   "cell_type": "markdown",
   "metadata": {},
   "source": [
    "Calculate errors"
   ]
  },
  {
   "cell_type": "code",
   "execution_count": 55,
   "metadata": {},
   "outputs": [],
   "source": [
    "errors = preds - y_test"
   ]
  },
  {
   "cell_type": "markdown",
   "metadata": {},
   "source": [
    "MSE"
   ]
  },
  {
   "cell_type": "code",
   "execution_count": 56,
   "metadata": {},
   "outputs": [
    {
     "name": "stdout",
     "output_type": "stream",
     "text": [
      "24.291119474974227\n"
     ]
    }
   ],
   "source": [
    "mses = np.mean((errors)** 2)\n",
    "print(mses)\n",
    "# print(mses[:5])"
   ]
  },
  {
   "cell_type": "markdown",
   "metadata": {},
   "source": [
    "# 2. Sklearn Linear Regression"
   ]
  },
  {
   "cell_type": "markdown",
   "metadata": {},
   "source": [
    "## Fitting"
   ]
  },
  {
   "cell_type": "markdown",
   "metadata": {},
   "source": [
    "Use a very simple Linear Regression model. Scikit-learn uses the closed-form solution for Linear Regression problem thus it gives very good results."
   ]
  },
  {
   "cell_type": "code",
   "execution_count": 57,
   "metadata": {
    "ExecuteTime": {
     "end_time": "2018-06-11T21:27:16.784678Z",
     "start_time": "2018-06-11T21:27:16.781377Z"
    }
   },
   "outputs": [],
   "source": [
    "from sklearn.linear_model import LinearRegression\n",
    "model_sk = LinearRegression()"
   ]
  },
  {
   "cell_type": "markdown",
   "metadata": {},
   "source": [
    "Fitting model on prepared data"
   ]
  },
  {
   "cell_type": "code",
   "execution_count": 58,
   "metadata": {
    "ExecuteTime": {
     "end_time": "2018-06-11T21:27:17.309670Z",
     "start_time": "2018-06-11T21:27:17.289921Z"
    }
   },
   "outputs": [
    {
     "data": {
      "text/plain": [
       "LinearRegression(copy_X=True, fit_intercept=True, n_jobs=None,\n",
       "         normalize=False)"
      ]
     },
     "execution_count": 58,
     "metadata": {},
     "output_type": "execute_result"
    }
   ],
   "source": [
    "model_sk.fit(X_train, y_train)"
   ]
  },
  {
   "cell_type": "markdown",
   "metadata": {},
   "source": [
    "## 3. MSE LR Via GD: Implement simple linear regression via gradient descent \n",
    "\n",
    "\n",
    "The objective function, MSE, can be rewritten as in matrix (vectorized) form as  follows:\n",
    "\n",
    "$$\n",
    "f(\\boldsymbol{\\theta}) = \\frac{1}{m}\\|\\text{X}'\\cdot \\boldsymbol{\\theta} - \\mathbf{y}\\|^2\n",
    "$$\n",
    "\n",
    "This is often referred to as the **vectorized form** and helps simplify equations by dropping $\\sum$  and code by drop the use of `for` loops.\n",
    "Consequently, the gradient can be easily calculated in vectorized form as:\n",
    "\n",
    "$$\n",
    "\\nabla_{\\boldsymbol{\\theta}} f(\\boldsymbol{\\theta}) = \\frac{2}{m}\\left(\\text{X}'\\cdot \\boldsymbol{\\theta} - \\mathbf{y}\\right)^{\\text{T}}\\cdot \\text{X}'\n",
    "$$\n",
    "\n",
    "The first-order conditial  condition for optimality are as follows:\n",
    "\n",
    "$$\n",
    "\\nabla_{\\boldsymbol{\\theta}} f(\\boldsymbol{\\theta}) = 0\n",
    "$$\n",
    "\n",
    "The gradient descent iteration step takes the following form:\n",
    "\n",
    "$$\\theta = \\theta - \\alpha * \\nabla_{\\boldsymbol{\\theta}} f(\\boldsymbol{\\theta})$$ "
   ]
  },
  {
   "cell_type": "code",
   "execution_count": 59,
   "metadata": {},
   "outputs": [],
   "source": [
    "#generate a small dataset\n",
    "np.random.seed(21)\n",
    "b, w = 3, 1.5\n",
    "X = np.arange(1, 20)\n",
    "y = w * X + b\n",
    "y += np.random.normal(loc=0.0, scale=3.0, size=len(X))\n",
    "X = np.c_[np.ones(X.shape[0]), X]"
   ]
  },
  {
   "cell_type": "code",
   "execution_count": 60,
   "metadata": {},
   "outputs": [
    {
     "name": "stdout",
     "output_type": "stream",
     "text": [
      "iter    0 gradient vector is [ -14.1268 -171.7028]; theta vector is [1.0141 1.1717]\n",
      "iter 1000 gradient vector is [-0.5626  0.0434]; theta vector is [1.7653 1.6017]\n",
      "iter 2000 gradient vector is [-0.3555  0.0274]; theta vector is [2.2164 1.5669]\n",
      "iter 3000 gradient vector is [-0.2247  0.0173]; theta vector is [2.5014 1.545 ]\n",
      "iter 4000 gradient vector is [-0.142   0.0109]; theta vector is [2.6816 1.5311]\n",
      "iter 5000 gradient vector is [-0.0897  0.0069]; theta vector is [2.7954 1.5223]\n",
      "iter 6000 gradient vector is [-0.0567  0.0044]; theta vector is [2.8674 1.5168]\n",
      "iter 7000 gradient vector is [-0.0358  0.0028]; theta vector is [2.9128 1.5133]\n",
      "iter 8000 gradient vector is [-0.0226  0.0017]; theta vector is [2.9416 1.5111]\n",
      "iter 9000 gradient vector is [-0.0143  0.0011]; theta vector is [2.9597 1.5097]\n",
      "Learnt Vector: [2.9712 1.5088]\n",
      "True   Vector: [3.  1.5]\n"
     ]
    }
   ],
   "source": [
    "#gradient descent\n",
    "theta = np.array([1., 1.])  #initialize theta\n",
    "learningRate = 0.001\n",
    "Y = y.reshape(-1,1)  #convert y to nx1 matrix\n",
    "m = y.shape[0]\n",
    "for i in range(10000):\n",
    "    gradient = (2/m)*X.T.dot(X.dot(theta) - y)\n",
    "    theta -= learningRate * gradient\n",
    "    if i%1000 ==0:\n",
    "        print(f\"iter {i:4} gradient vector is {np.round(gradient, 4)}; theta vector is {np.round(theta, 4)}\")\n",
    "        \n",
    "print(f\"Learnt Vector: {np.round(theta, 4)}\")\n",
    "print(f\"True   Vector: {np.round([b,w], 4)}\")"
   ]
  },
  {
   "cell_type": "code",
   "execution_count": 61,
   "metadata": {},
   "outputs": [
    {
     "name": "stderr",
     "output_type": "stream",
     "text": [
      "/Users/shah.peace/anaconda3/lib/python3.7/site-packages/matplotlib/cbook/__init__.py:424: MatplotlibDeprecationWarning: \n",
      "Passing one of 'on', 'true', 'off', 'false' as a boolean is deprecated; use an actual boolean (True/False) instead.\n",
      "  warn_deprecated(\"2.2\", \"Passing one of 'on', 'true', 'off', 'false' as a \"\n"
     ]
    },
    {
     "data": {
      "image/png": "[encoded data removed]",
      "text/plain": [
       "<Figure size 720x576 with 1 Axes>"
      ]
     },
     "metadata": {
      "needs_background": "light"
     },
     "output_type": "display_data"
    }
   ],
   "source": [
    "plt.figure(figsize=(10, 8))\n",
    "plt.scatter(X[:, 1], y, s=60, label=\"Available data\")\n",
    "plt.title('Learnt linear regression models via different learning algorithms')\n",
    "plt.xlabel(\"Input x\")\n",
    "plt.ylabel(\"Target y\")\n",
    "plt.plot([0, 20], [b, w * 20 + b], \"r\", linewidth=2, label=\"Real dependency\")\n",
    "plt.plot([0, 20], [b_rs, w_rs * 20 + b_rs], \"g\", linewidth=2, label=\"Random Search\")\n",
    "plt.plot([0, 20], [b_cf, m_cf * 20 + b_cf], \"b\", linewidth=2, label=\"Closed Form\")\n",
    "plt.plot([0, 20], [theta[0], theta[1] * 20 + b_cf], \"b\", linewidth=2, label=\"Gradient Descent\")\n",
    "plt.xlim([0, 20])\n",
    "plt.ylim([0, 35])\n",
    "plt.legend(loc=\"lower right\", fontsize=14)\n",
    "plt.grid(\"on\")\n",
    "plt.show()"
   ]
  },
  {
   "cell_type": "markdown",
   "metadata": {},
   "source": [
    "## Full example: Simple linear regression via gradient descent\n",
    "\n",
    "### Generate some data with:\n",
    "\\begin{equation} \\theta_0= 4 \\end{equation} \n",
    "\\begin{equation} \\theta_1= 3 \\end{equation} \n",
    "\n",
    "Add some Gaussian noise to the data"
   ]
  },
  {
   "cell_type": "code",
   "execution_count": 98,
   "metadata": {},
   "outputs": [
    {
     "name": "stderr",
     "output_type": "stream",
     "text": [
      "/Users/shah.peace/anaconda3/lib/python3.7/site-packages/matplotlib/cbook/__init__.py:424: MatplotlibDeprecationWarning: \n",
      "Passing one of 'on', 'true', 'off', 'false' as a boolean is deprecated; use an actual boolean (True/False) instead.\n",
      "  warn_deprecated(\"2.2\", \"Passing one of 'on', 'true', 'off', 'false' as a \"\n"
     ]
    },
    {
     "data": {
      "image/png": "[encoded data removed]",
      "text/plain": [
       "<Figure size 432x288 with 1 Axes>"
      ]
     },
     "metadata": {
      "needs_background": "light"
     },
     "output_type": "display_data"
    }
   ],
   "source": [
    "thetaTrue = np.array([4,3]) #true coefficents\n",
    "np.random.seed(42)\n",
    "X = 2 * np.random.rand(100,1)  #some random input data for X\n",
    "y = thetaTrue[0] + thetaTrue[1] * X+np.random.randn(100,1) # generate y by adding some random noise elementwise\n",
    "\n",
    "#generate some data so we can plot the true function\n",
    "X_new = np.array([[0],[2]])\n",
    "X_new_b = np.c_[np.ones((2,1)),X_new]\n",
    "y_predict = X_new_b.dot(thetaTrue)\n",
    "\n",
    "plt.plot(X,y,'b.')\n",
    "plt.xlabel(\"$x$\", fontsize=18)\n",
    "plt.ylabel(\"$y$\", rotation=0, fontsize=18)\n",
    "plt.plot(X_new, y_predict, \"r\", linewidth=2, label=\"Real dependency\")\n",
    "plt.legend(loc=\"lower right\", fontsize=14)\n",
    "plt.grid(\"on\")\n",
    "_ =plt.axis([0,2,0,15])\n",
    "plt.show()\n"
   ]
  },
  {
   "cell_type": "code",
   "execution_count": 99,
   "metadata": {},
   "outputs": [
    {
     "name": "stdout",
     "output_type": "stream",
     "text": [
      "Theta0:          3.184,\n",
      "Theta1:          3.671\n",
      "Theta0: TRUE     4.000,\n",
      "Theta1: TRUE     3.000\n",
      "Final cost/MSE:  5623.457\n"
     ]
    }
   ],
   "source": [
    "\n",
    "def  MSE_Loss(theta,X,y):\n",
    "    ''' \n",
    "    Calculates the cost for given X and Y. The following shows an example of a single dimensional X\n",
    "    theta = Vector of thetas \n",
    "    X     = Row of X's np.zeros((2,j))\n",
    "    y     = Actual y's np.zeros((2,1))\n",
    "    \n",
    "    where:\n",
    "        j is the no of features\n",
    "    '''\n",
    "    \n",
    "    m = len(y)\n",
    "    predictions = X.dot(theta)\n",
    "    cost = (1/2*m) * np.sum(np.square(predictions-y))\n",
    "    return cost\n",
    "\n",
    "def gradient_descent(X,y,theta,learning_rate=0.01,iterations=100, lossFunction=MSE_Loss):\n",
    "    '''\n",
    "    X    = Matrix of X with added bias units\n",
    "    y    = Vector of Y\n",
    "    theta=Vector of thetas np.random.randn(j,1)\n",
    "    learning_rate \n",
    "    iterations = no of iterations\n",
    "    lossFunction=MSE_Loss = the loss function used\n",
    "    \n",
    "    Returns the final theta vector and array of cost history over no of iterations\n",
    "    '''\n",
    "    \n",
    "    m = len(y)\n",
    "    cost_history = np.zeros(iterations)\n",
    "    theta_history = np.zeros((iterations,2))\n",
    "    for it in range(iterations):\n",
    "        #gradient descent\n",
    "        prediction = np.dot(X,theta)\n",
    "        theta = theta -(1/m)*learning_rate*( X.T.dot((prediction - y)))\n",
    "        theta_history[it,:] =theta.T\n",
    "        cost_history[it]  = lossFunction(theta,X,y)\n",
    "        \n",
    "    return theta, cost_history, theta_history\n",
    "      \n",
    "lr =0.01\n",
    "n_iter = 300\n",
    "\n",
    "theta = np.random.randn(2,1)\n",
    "\n",
    "X_b = np.c_[np.ones((len(X),1)),X]\n",
    "theta,cost_history,theta_history = gradient_descent(X_b,y,theta,lr,n_iter)\n",
    "\n",
    "\n",
    "print('Theta0:          {:0.3f},\\nTheta1:          {:0.3f}'.format(theta[0][0],theta[1][0]))\n",
    "print('Theta0: TRUE     {:0.3f},\\nTheta1: TRUE     {:0.3f}'.format(thetaTrue[0],thetaTrue[1]))\n",
    "print('Final cost/MSE:  {:0.3f}'.format(cost_history[-1]))  "
   ]
  },
  {
   "cell_type": "code",
   "execution_count": 100,
   "metadata": {},
   "outputs": [
    {
     "name": "stderr",
     "output_type": "stream",
     "text": [
      "/Users/shah.peace/anaconda3/lib/python3.7/site-packages/matplotlib/cbook/__init__.py:424: MatplotlibDeprecationWarning: \n",
      "Passing one of 'on', 'true', 'off', 'false' as a boolean is deprecated; use an actual boolean (True/False) instead.\n",
      "  warn_deprecated(\"2.2\", \"Passing one of 'on', 'true', 'off', 'false' as a \"\n"
     ]
    },
    {
     "data": {
      "image/png": "[encoded data removed]",
      "text/plain": [
       "<Figure size 864x576 with 1 Axes>"
      ]
     },
     "metadata": {
      "needs_background": "light"
     },
     "output_type": "display_data"
    }
   ],
   "source": [
    "fig,ax = plt.subplots(figsize=(12,8))\n",
    "\n",
    "ax.set_ylabel('MSE_Loss(Theta; X, y)')\n",
    "ax.set_xlabel('Iteration aka Epoch')\n",
    "plt.title(\"MSE Loss during training via full gradient descent\")\n",
    "plt.grid(\"on\")\n",
    "\n",
    "_=ax.plot(range(n_iter),cost_history,'b.')"
   ]
  },
  {
   "cell_type": "markdown",
   "metadata": {},
   "source": [
    "## TASK: Implement LASSO linear regression via Gradient from scratch\n",
    "Implement LASSO linear regression via Gradient from scratch. Hint: use Numpy and adopt the code above. Demonstrate on the Boston House pricing data (split data into train-test; using 20% as a blind test set)"
   ]
  },
  {
   "cell_type": "markdown",
   "metadata": {},
   "source": [
    "The derivative of absolute function  have three different cases (subgradients), when X > 1, X < 1 and X = 0.\n",
    "\n",
    "* Option 1 → When X > 1, derivative = 1\n",
    "* Option 2 → When X = 0, derivative = undefined\n",
    "* Option 3 → When X < 1, derivative = -1"
   ]
  },
  {
   "cell_type": "code",
   "execution_count": 101,
   "metadata": {},
   "outputs": [],
   "source": [
    "# Loading Boston Data\n",
    "import pandas as pd\n",
    "X = pd.DataFrame(boston.data, columns=boston.feature_names)\n",
    "y = boston.target\n",
    "\n",
    "X_train, X_test, y_train, y_test = train_test_split(X, y, test_size=0.2, random_state=42)\n",
    "\n",
    "from sklearn.preprocessing import MinMaxScaler\n",
    "scaler = MinMaxScaler()\n",
    "X_train = scaler.fit_transform(X_train)"
   ]
  },
  {
   "cell_type": "code",
   "execution_count": 102,
   "metadata": {},
   "outputs": [],
   "source": [
    "X_b = np.c_[np.ones(X_train.shape[0]),X_train]\n",
    "# X_b.shape\n",
    "theta = np.random.randn(len(X_b[1]),1)\n",
    "# theta.shape"
   ]
  },
  {
   "cell_type": "code",
   "execution_count": 103,
   "metadata": {
    "collapsed": true,
    "jupyter": {
     "outputs_hidden": true
    }
   },
   "outputs": [
    {
     "data": {
      "text/plain": [
       "(14, 1)"
      ]
     },
     "execution_count": 103,
     "metadata": {},
     "output_type": "execute_result"
    }
   ],
   "source": [
    "def d_abs(X):\n",
    "    maskPos = (X>=0) * 1\n",
    "    maskNeg = (X<0) * -1\n",
    "    return(maskPos + maskNeg)\n",
    "\n",
    "def  MSE_Loss_lasso(theta,X,y,lam):\n",
    "   '''\n",
    "   Calculates the cost for given X and Y. The following shows an example of a single dimensional X\n",
    "   theta = Vector of thetas\n",
    "   X     = Row of X's np.zeros((2,j))\n",
    "   y     = Actual y's np.zeros((2,1))\n",
    "   \n",
    "   where:\n",
    "       j is the no of features\n",
    "   '''\n",
    "   \n",
    "   m = len(y)\n",
    "   predictions = X.dot(theta)\n",
    "   cost = (1/2*m) * np.sum(np.square(predictions-y)) + lam*np.abs(theta)\n",
    "   return cost\n",
    "\n",
    "def gradient_descent_lasso(X,y,theta,learning_rate=0.01,lam=0.1,iterations=100, lossFunction=MSE_Loss_lasso):\n",
    "   '''\n",
    "   X    = Matrix of X with added bias units\n",
    "   y    = Vector of Y\n",
    "   theta=Vector of thetas np.random.randn(j,1)\n",
    "   learning_rate\n",
    "   iterations = no of iterations\n",
    "   lossFunction=MSE_Loss = the loss function used\n",
    "   \n",
    "   Returns the final theta vector and array of cost history over no of iterations\n",
    "   '''\n",
    "   \n",
    "   m = len(y)\n",
    "   cost_history = np.zeros(iterations)\n",
    "   theta_history = np.zeros((iterations,2))\n",
    "   for it in range(iterations):\n",
    "        #gradient descent\n",
    "        prediction = np.dot(X,theta)\n",
    "        theta = theta -(1/m)*learning_rate*(np.dot(X.T,(prediction - y.reshape(404,1)))) + lam*d_abs(theta)\n",
    "        return theta\n",
    "     \n",
    "lr =0.01\n",
    "n_iter = 300\n",
    "\n",
    "\n",
    "X_b = np.c_[np.ones(X_train.shape[0]),X_train]\n",
    "theta = np.random.randn(len(X_b[1]),1)\n",
    "\n",
    "theta = gradient_descent_lasso(X_b,y_train,theta,lr,n_iter)\n",
    "theta.shape\n",
    "\n",
    "# print('Theta0:          {:0.3f},\\nTheta1:          {:0.3f}'.format(theta[0][0],theta[1][0]))\n",
    "# print('Theta0: TRUE     {:0.3f},\\nTheta1: TRUE     {:0.3f}'.format(thetaTrue[0],thetaTrue[1]))\n",
    "# print('Final cost/MSE:  {:0.3f}'.format(cost_history[-1])) "
   ]
  },
  {
   "cell_type": "code",
   "execution_count": 104,
   "metadata": {},
   "outputs": [
    {
     "data": {
      "text/plain": [
       "(404, 14)"
      ]
     },
     "execution_count": 104,
     "metadata": {},
     "output_type": "execute_result"
    }
   ],
   "source": [
    "X_b.shape"
   ]
  },
  {
   "cell_type": "code",
   "execution_count": 105,
   "metadata": {},
   "outputs": [
    {
     "data": {
      "text/plain": [
       "(14, 1)"
      ]
     },
     "execution_count": 105,
     "metadata": {},
     "output_type": "execute_result"
    }
   ],
   "source": [
    "theta.shape"
   ]
  },
  {
   "cell_type": "markdown",
   "metadata": {},
   "source": [
    "Calculate errors"
   ]
  },
  {
   "cell_type": "code",
   "execution_count": 106,
   "metadata": {},
   "outputs": [],
   "source": [
    "errors = np.dot(X_b, theta) - y_train"
   ]
  },
  {
   "cell_type": "markdown",
   "metadata": {},
   "source": [
    "MSE"
   ]
  },
  {
   "cell_type": "code",
   "execution_count": 107,
   "metadata": {},
   "outputs": [
    {
     "name": "stdout",
     "output_type": "stream",
     "text": [
      "(404,)\n",
      "[ 555384.29573032  270295.03811068  329243.72082182 1285021.4955656\n",
      "  188172.23565629]\n"
     ]
    }
   ],
   "source": [
    "mses = np.mean((errors)** 2, axis = 1)\n",
    "print(mses.shape)\n",
    "print(mses[:5])"
   ]
  },
  {
   "cell_type": "markdown",
   "metadata": {},
   "source": [
    "\n",
    "The objective function, MSE, can be rewritten as in matrix (vectorized) form as  follows:\n",
    "\n",
    "$$\n",
    "f(\\boldsymbol{\\theta}) = \\frac{1}{m}\\|\\text{X}'\\cdot \\boldsymbol{\\theta} - \\mathbf{y}\\|^2 + \\lambda|\\theta|\n",
    "$$\n",
    "\n",
    "This is often referred to as the **vectorized form** and helps simplify equations by dropping $\\sum$  and code by drop the use of `for` loops.\n",
    "Consequently, the gradient can be easily calculated in vectorized form as:\n",
    "\n",
    "$$\n",
    "\\nabla_{\\boldsymbol{\\theta}} f(\\boldsymbol{\\theta}) = \\frac{2}{m}\\text{X}'^T\\left(\\text{X}'\\cdot \\boldsymbol{\\theta} - \\mathbf{y}\\right)\\cdot  + \\lambda sgn(\\theta)\n",
    "$$\n",
    "\n",
    "The first-order conditial  condition for optimality are as follows:\n",
    "\n",
    "$$\n",
    "\\nabla_{\\boldsymbol{\\theta}} f(\\boldsymbol{\\theta}) = 0\n",
    "$$\n",
    "\n",
    "The gradient descent iteration step takes the following form:\n",
    "\n",
    "$$\\theta = \\theta - \\alpha * \\nabla_{\\boldsymbol{\\theta}} f(\\boldsymbol{\\theta})$$ "
   ]
  },
  {
   "cell_type": "markdown",
   "metadata": {},
   "source": [
    "## TASK: Implement Ridge linear regression via Gradient from scratch \n",
    "Implement RIDGE linear regression via Gradient from scratch. Hint: use Numpy and adopt the code above. Demonstrate on the Boston House pricing data (split data into train-test; using 20% as a blind test set)"
   ]
  },
  {
   "cell_type": "code",
   "execution_count": 108,
   "metadata": {},
   "outputs": [],
   "source": [
    "# Loading Boston Data\n",
    "import pandas as pd\n",
    "X = pd.DataFrame(boston.data, columns=boston.feature_names)\n",
    "y = boston.target\n",
    "\n",
    "X_train, X_test, y_train, y_test = train_test_split(X, y, test_size=0.2, random_state=42)\n",
    "\n",
    "from sklearn.preprocessing import MinMaxScaler\n",
    "scaler = MinMaxScaler()\n",
    "X_train = scaler.fit_transform(X_train)"
   ]
  },
  {
   "cell_type": "code",
   "execution_count": 109,
   "metadata": {},
   "outputs": [],
   "source": [
    "X_b = np.c_[np.ones(X_train.shape[0]),X_train]\n",
    "# X_b.shape\n",
    "theta = np.random.randn(len(X_b[1]),1)\n",
    "# theta.shape"
   ]
  },
  {
   "cell_type": "code",
   "execution_count": 110,
   "metadata": {
    "collapsed": true,
    "jupyter": {
     "outputs_hidden": true
    }
   },
   "outputs": [
    {
     "data": {
      "text/plain": [
       "(14, 1)"
      ]
     },
     "execution_count": 110,
     "metadata": {},
     "output_type": "execute_result"
    }
   ],
   "source": [
    "def  MSE_Loss_ridge(theta,X,y,lam):\n",
    "   '''\n",
    "   Calculates the cost for given X and Y. The following shows an example of a single dimensional X\n",
    "   theta = Vector of thetas\n",
    "   X     = Row of X's np.zeros((2,j))\n",
    "   y     = Actual y's np.zeros((2,1))\n",
    "   \n",
    "   where:\n",
    "       j is the no of features\n",
    "   '''\n",
    "   \n",
    "   m = len(y)\n",
    "   predictions = X.dot(theta)\n",
    "   cost = (1/2*m) * np.sum(np.square(predictions-y)) + lam*np.linalg.norm(theta)\n",
    "   return cost\n",
    "\n",
    "def gradient_descent_lasso(X,y,theta,learning_rate=0.01,lam=0.1,iterations=100, lossFunction=MSE_Loss_ridge):\n",
    "   '''\n",
    "   X    = Matrix of X with added bias units\n",
    "   y    = Vector of Y\n",
    "   theta=Vector of thetas np.random.randn(j,1)\n",
    "   learning_rate\n",
    "   iterations = no of iterations\n",
    "   lossFunction=MSE_Loss = the loss function used\n",
    "   \n",
    "   Returns the final theta vector and array of cost history over no of iterations\n",
    "   '''\n",
    "   \n",
    "   m = len(y)\n",
    "   cost_history = np.zeros(iterations)\n",
    "   theta_history = np.zeros((iterations,2))\n",
    "   for it in range(iterations):\n",
    "        #gradient descent\n",
    "        prediction = np.dot(X,theta)\n",
    "        theta = theta -(1/m)*learning_rate*(np.dot(X.T,(prediction - y.reshape(404,1)))) + 2*lam*np.abs(theta)\n",
    "        return theta\n",
    "     \n",
    "lr =0.01\n",
    "n_iter = 300\n",
    "\n",
    "\n",
    "# X_b = np.c_[np.ones(X_train.shape[0]),X_train]\n",
    "theta = np.random.randn(len(X_b[1]),1)\n",
    "\n",
    "theta = gradient_descent_lasso(X_b,y_train,theta,lr,n_iter)\n",
    "theta.shape\n"
   ]
  },
  {
   "cell_type": "markdown",
   "metadata": {},
   "source": [
    "Calculate errors"
   ]
  },
  {
   "cell_type": "code",
   "execution_count": 111,
   "metadata": {},
   "outputs": [],
   "source": [
    "errors = np.dot(X_b, theta) - y_train"
   ]
  },
  {
   "cell_type": "markdown",
   "metadata": {},
   "source": [
    "MSE"
   ]
  },
  {
   "cell_type": "code",
   "execution_count": 112,
   "metadata": {},
   "outputs": [
    {
     "name": "stdout",
     "output_type": "stream",
     "text": [
      "(404,)\n",
      "[18936152.28820046  7400343.42439362  5714423.53567747 17072085.66325038\n",
      "  7894884.41629838]\n"
     ]
    }
   ],
   "source": [
    "mses = np.mean((errors)** 2, axis = 1)\n",
    "print(mses.shape)\n",
    "print(mses[:5])"
   ]
  }
 ],
 "metadata": {
  "kernelspec": {
   "display_name": "Python 3",
   "language": "python",
   "name": "python3"
  },
  "language_info": {
   "codemirror_mode": {
    "name": "ipython",
    "version": 3
   },
   "file_extension": ".py",
   "mimetype": "text/x-python",
   "name": "python",
   "nbconvert_exporter": "python",
   "pygments_lexer": "ipython3",
   "version": "3.7.3"
  }
 },
 "nbformat": 4,
 "nbformat_minor": 4
}
